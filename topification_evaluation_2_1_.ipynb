{
  "nbformat": 4,
  "nbformat_minor": 0,
  "metadata": {
    "colab": {
      "provenance": [],
      "toc_visible": true,
      "machine_shape": "hm",
      "authorship_tag": "ABX9TyPF5uyQgupN5c8G4rRMtkht",
      "include_colab_link": true
    },
    "kernelspec": {
      "name": "python3",
      "display_name": "Python 3"
    },
    "language_info": {
      "name": "python"
    },
    "gpuClass": "standard",
    "accelerator": "GPU"
  },
  "cells": [
    {
      "cell_type": "markdown",
      "metadata": {
        "id": "view-in-github",
        "colab_type": "text"
      },
      "source": [
        "<a href=\"https://colab.research.google.com/github/luisanovaes/ufam_project/blob/main/topification_evaluation_2_1_.ipynb\" target=\"_parent\"><img src=\"https://colab.research.google.com/assets/colab-badge.svg\" alt=\"Open In Colab\"/></a>"
      ]
    },
    {
      "cell_type": "code",
      "execution_count": 1,
      "metadata": {
        "colab": {
          "base_uri": "https://localhost:8080/"
        },
        "id": "8tUXXwI6SMI1",
        "outputId": "4aee987e-5454-4d92-af9e-38afadb66594"
      },
      "outputs": [
        {
          "output_type": "stream",
          "name": "stdout",
          "text": [
            "Mounted at /content/drive\n"
          ]
        }
      ],
      "source": [
        "#Acesso ao drive\n",
        "from google.colab import drive\n",
        "drive.mount('/content/drive')"
      ]
    },
    {
      "cell_type": "markdown",
      "source": [
        "# Loading functions"
      ],
      "metadata": {
        "id": "cJ2MMOGCCpoY"
      }
    },
    {
      "cell_type": "code",
      "source": [
        "import pandas as pd\n",
        "from collections import Counter\n",
        "import json\n",
        "import re\n",
        "\n",
        "# Index(['Unnamed: 0', 'Document_id', 'Dominant_Topic', 'Topic_Perc_Contrib',\n",
        "#        'Top5_Topics', 'Ementa', 'Q', 'S'], dtye='object')\n",
        "\n",
        "def generate_dominant_map(csv_filepath: str) -> map:\n",
        "    df = pd.read_csv(csv_filepath, sep=\",\")\n",
        "    return dict(zip(df.Document_id, df.Dominant_Topic))\n",
        "\n",
        "\n",
        "def generate_topK_max_map(csv_filepath: str) -> map:\n",
        "    df = pd.read_csv(csv_filepath, sep=\",\")\n",
        "    return dict(zip(df.Document_id, df.Top5_Topics))\n",
        "\n",
        "\n",
        "def generate_document_map(json_file: str) -> map:\n",
        "    with open(json_file) as json_data:\n",
        "        data = json.load(json_data)\n",
        "        return data\n",
        "\n",
        "def generate_top_k_map(csv_filepath: str, k: int) -> map:\n",
        "    df = pd.read_csv(csv_filepath, sep=\",\")\n",
        "    result_map = dict(zip(df.Document_id, df.Top5_Topics))\n",
        "    # print(\"Pre-filtering map:\", result_map)\n",
        "    filtered_map = remove_all_elements_greater_than_k(result_map, k)\n",
        "    #print(\"Filtered on top K map:\", filtered_map)\n",
        "    return filtered_map\n",
        "\n",
        "\n",
        "def remove_all_elements_greater_than_k(input_map : map, cut_value: int) -> map:\n",
        "    new_map = dict()\n",
        "    for (key, v) in input_map.items():\n",
        "        l = str_to_list(v)\n",
        "        new_map[key] = build_str(l, cut_value)\n",
        "    return new_map\n",
        "\n",
        "def match_dominant(doc_to_dominant_topic: map, doc_to_refs: map) -> map:\n",
        "    result = Counter()\n",
        "    for (doc, v) in doc_to_refs.items():\n",
        "        for ref in doc_to_refs[doc]:\n",
        "            if (doc_to_dominant_topic[ref] == doc_to_dominant_topic[doc]):\n",
        "                result[doc] = result[doc] + 1\n",
        "        result[doc] = result[doc] / len(doc_to_refs[doc])\n",
        "    return result\n",
        "\n",
        "#ALTERNATIVA 1: Avaliar a presença do tópico dominante da QUERY nos top k tópicos dominantes da RESPOSTA \n",
        "def dominant_inside_top_k_type1(doc_to_dominant_topic: map, doc_to_top_k: map, doc_to_refs: map) -> map:\n",
        "    result = Counter()\n",
        "    for (doc, v) in doc_to_refs.items(): #([('048771.txt', ['038112.txt', '026070.txt']), (...)])\n",
        "      try:\n",
        "        for ref in doc_to_refs[doc]: # ['038112.txt', '026070.txt']\n",
        "          query_dominant = doc_to_dominant_topic[doc] #13\n",
        "          top_k_from_ref = doc_to_top_k[ref].replace(\"[\",\"\").replace(\"]\",\"\").split(' ') # ['94', '5', '105', '3', '20']\n",
        "          if (convert_float_to_int_string(query_dominant) in top_k_from_ref):\n",
        "            result[doc] = result[doc] + 1\n",
        "      except:\n",
        "        result[doc] = result[doc] + 0     \n",
        "      result[doc] = result[doc] / len(doc_to_refs[doc])\n",
        "    return result\n",
        "\n",
        "\n",
        "\n",
        "#ALTERNATIVA 2: #AJUSTAR O doc_to_dominant_topic pra não pegar todos os docs; Avaliar a presença do tópico dominante da RESPOSTA nos top k tópicos dominantes da QUERY ; \n",
        "def dominant_inside_top_k_type2(doc_to_dominant_topic: map, doc_to_top_k: map, doc_to_refs: map) -> map:\n",
        "    result = Counter()\n",
        "    for (doc, v) in doc_to_refs.items(): #([('048771.txt', ['038112.txt', '026070.txt']), (...)])\n",
        "      try:\n",
        "        for ref in doc_to_refs[doc]: # ['038112.txt', '026070.txt']\n",
        "          reference_dominant = doc_to_dominant_topic[ref] #94.0\n",
        "          top_five_from_doc = doc_to_top_k[doc].replace(\"[\",\"\").replace(\"]\",\"\").split(' ') # ['13', '19', '20', '35', '3', '101', '7', '107', '25', '75']\n",
        "          if (convert_float_to_int_string(reference_dominant) in top_five_from_doc):\n",
        "            result[doc] = result[doc] + 1\n",
        "      except:\n",
        "        result[doc] = result[doc] + 0    \n",
        "      result[doc] = result[doc] / len(doc_to_refs[doc])\n",
        "    return result\n",
        "\n",
        "\n",
        "def convert_float_to_int_string(value: float) -> str:\n",
        "    return str(int(float(value)))\n",
        "\n",
        "def str_to_list(value: str) -> list:\n",
        "    cleaned_v = value.replace(\"]\", \"\").replace(\"[\", \"\").strip()\n",
        "    return re.split(\"\\s+\", cleaned_v)\n",
        "\n",
        "\n",
        "def build_str(l: list, cut_value: int) -> str:\n",
        "   return \"[\" + \" \".join(l[0:cut_value]) + \"]\"\n",
        "\n",
        "def references_agreement_on_topic(doc_to_dominant_topic: map, doc_to_refs: map) -> map:\n",
        "    result = Counter()\n",
        "    for (doc, v) in doc_to_refs.items(): #([('048771.txt', ['038112.txt', '026070.txt']), (...)])\n",
        "        tmp_counter = Counter()\n",
        "        for ref in doc_to_refs[doc]:\n",
        "            reference_dominant_value = doc_to_dominant_topic[ref]\n",
        "            tmp_counter[reference_dominant_value] = tmp_counter[reference_dominant_value] + 1\n",
        "        result[doc] = (tmp_counter.most_common(1)[0][0], tmp_counter.most_common(1)[0][1]/len(doc_to_refs[doc]))\n",
        "    return result\n",
        "\n",
        "def write_document_map_to_csv(map: map, filename: str) -> None:\n",
        "    print(\"To write at file: \" + \"/content/drive/MyDrive/Colab-Notebooks/luisa-novaes/evaluation/\"+filename)\n",
        "    with open(\"/content/drive/MyDrive/Colab-Notebooks/luisa-novaes/results\"+filename,'w',encoding = 'utf-8') as f:\n",
        "        f.write(\"document,percentual\\n\")\n",
        "        for (k,v) in map.items():\n",
        "            f.write( str(k) + \",\" + str(v) + \"\\n\" )\n",
        "\n",
        "\n",
        "def write_agreement_analysis_to_csv(map: map, filename: str) -> None:\n",
        "    print(\"To write at file: \"+\"/content/drive/MyDrive/Colab-Notebooks/luisa-novaes/evaluation/\"+filename)\n",
        "    with open(\"/content/drive/MyDrive/Colab-Notebooks/luisa-novaes/evaluation/\"+filename,'w+',encoding = 'utf-8') as f:\n",
        "        f.write(\"document,topic_dominant_id_agreed, percentual_of_the_agreement\\n\")\n",
        "        for (k,v) in map.items():\n",
        "            topic_agreed = convert_float_to_int_string(v[0])\n",
        "            percentual_of_agreement = str(v[1])\n",
        "            f.write( str(k) + \",\" + topic_agreed + \",\"+ percentual_of_agreement + \"\\n\" )\n",
        "\n"
      ],
      "metadata": {
        "id": "WG82ZGNHpL4h"
      },
      "execution_count": 2,
      "outputs": []
    },
    {
      "cell_type": "code",
      "source": [
        "#Select >candidate topics< considering the Perc of Contrib from the dominant topic > threshould\n",
        "\n",
        "def generate_top_k_map_threshold(csv_filepath: str, k: int, threshold) -> map:\n",
        "    df = pd.read_csv(csv_filepath, sep=\",\")\n",
        "    result_list_raw = (pd.DataFrame(zip(df.Document_id, df.Topic_Perc_Contrib, df.Top5_Topics), columns = ['Document_id', 'Topic_Perc_Contrib', 'Top5_Topics']))\n",
        "    #print(\"Pre-filtering map:\", result_list_raw)\n",
        "    result_after_threshold = result_list_raw[result_list_raw['Topic_Perc_Contrib'] > threshold]\n",
        "    result_map = dict(zip(result_after_threshold['Document_id'],result_after_threshold['Top5_Topics']))\n",
        "    #INSERT QUERY DOCS BACK\n",
        "    query_map = generate_top_k_map(queries_to_dominant_topic,k)\n",
        "    final_map = {**query_map,**result_map}\n",
        "    #print(\"Filtered on top K map:\", result_map)\n",
        "    filtered_map = remove_all_elements_greater_than_k(final_map, k)\n",
        "    #print(\"Filtered on top K map:\", filtered_map)\n",
        "    return filtered_map\n",
        "\n",
        "\n",
        "#this one without a threshould\n",
        "def generate_top_k_map(csv_filepath: str, k: int) -> map:\n",
        "    df = pd.read_csv(csv_filepath, sep=\",\")\n",
        "    result_map = dict(zip(df.Document_id, df.Top5_Topics)) # TOP K\n",
        "    # print(\"Pre-filtering map:\", result_map)\n",
        "    filtered_map = remove_all_elements_greater_than_k(result_map, k)\n",
        "    # print(\"Filtered on top K map:\", filtered_map)\n",
        "    return filtered_map\n"
      ],
      "metadata": {
        "id": "Cz9QtchYrgNb"
      },
      "execution_count": 3,
      "outputs": []
    },
    {
      "cell_type": "markdown",
      "source": [
        "# Load docs"
      ],
      "metadata": {
        "id": "cIQQMFLtC6So"
      }
    },
    {
      "cell_type": "code",
      "source": [
        "# Input files\n",
        "bert_result_file = \"/content/drive/MyDrive/Colab-Notebooks/luisa-novaes/results/bertopic_documents_final-k-max.csv\"\n",
        "document_references_file = \"/content/drive/MyDrive/Colab-Notebooks/luisa-novaes/task1_train_labels.json\"\n",
        "queries_to_dominant_topic = \"/content/drive/MyDrive/Colab-Notebooks/luisa-novaes/queries.csv\"\n",
        " "
      ],
      "metadata": {
        "id": "adTov14ksRcx"
      },
      "execution_count": 4,
      "outputs": []
    },
    {
      "cell_type": "markdown",
      "source": [
        "# K fixo e threshold x variável"
      ],
      "metadata": {
        "id": "_qJwkbnVDHAW"
      }
    },
    {
      "cell_type": "code",
      "source": [
        "# Compute the maps for analysis\n",
        "#dict: doc -> dominant topic ; 4415 items; {'021359.txt': 20.0, '028184.txt': 0.0 ....}\n",
        "doc_to_dominant_topic = generate_dominant_map(bert_result_file)\n",
        "#dict: queries -> answers ; 650 items; {'008447.txt': ['072495.txt', '082291.txt',...]...}\n",
        "doc_to_refs = generate_document_map(document_references_file) \n",
        "#dict: doc -> top K dominant topics ; 4415 items; {'021359.txt': '[20 3 19 13 105]', ...}\n",
        "doc_to_top_k_fixed = generate_top_k_map(bert_result_file,10) \n",
        "\n",
        "# Generate analysis\n",
        "import statistics\n",
        "\n",
        "#For k = 10\n",
        "k=50\n",
        "#Threshold\n",
        "threshold= 0.0\n",
        "\n",
        "## Compute the maps for analysis\n",
        "#dict: doc -> dominant topic ; 4415 items; {'021359.txt': 20.0, '028184.txt': 0.0 ....}\n",
        "doc_to_dominant_topic = generate_dominant_map(bert_result_file)\n",
        "\n",
        "#dict: queries -> answers ; 650 items; {'008447.txt': ['072495.txt', '082291.txt',...]...}\n",
        "doc_to_refs = generate_document_map(document_references_file) \n",
        "\n",
        "#dict: doc -> top K=5 dominant topics, threhold = 0.2 ;  items; {'021359.txt': '[20 3 19 13 105]', ...}\n",
        "doc_to_top_k_threshold = generate_top_k_map_threshold(bert_result_file,k,threshold)\n",
        "\n",
        "\n",
        "# Generate analysis\n",
        "import statistics\n",
        "\n",
        "#Recall top K (References inside Top 5): % of reference dominant topics which is inside the document top five\n",
        "refs_inside_top_k = dominant_inside_top_k_type1(doc_to_dominant_topic, doc_to_top_k_threshold, doc_to_refs)\n",
        "\n",
        "\n",
        "\n",
        "print(\"References inside Top K: \", refs_inside_top_k, '\\n')\n",
        "mean3 = statistics.mean(refs_inside_top_k.values())\n",
        "median = statistics.median(refs_inside_top_k.values())\n",
        "print(mean3)\n",
        "print(median)\n",
        "\n",
        "#write_document_map_to_csv(refs_inside_top_k, \"type1_top_10_with_x=04.csv\")\n"
      ],
      "metadata": {
        "colab": {
          "base_uri": "https://localhost:8080/"
        },
        "id": "49-BLR48rWS4",
        "outputId": "150b367f-4ecf-42b4-f30d-6b7e4d48726c"
      },
      "execution_count": 55,
      "outputs": [
        {
          "output_type": "stream",
          "name": "stdout",
          "text": [
            "References inside Top K:  Counter({'008447.txt': 1.0, '067501.txt': 1.0, '007627.txt': 1.0, '006769.txt': 1.0, '007876.txt': 1.0, '078422.txt': 1.0, '000123.txt': 1.0, '043774.txt': 1.0, '031183.txt': 1.0, '039087.txt': 1.0, '008653.txt': 1.0, '030394.txt': 1.0, '043815.txt': 1.0, '076001.txt': 1.0, '001499.txt': 1.0, '006704.txt': 1.0, '068182.txt': 1.0, '031284.txt': 1.0, '046467.txt': 1.0, '004108.txt': 1.0, '040560.txt': 1.0, '016618.txt': 1.0, '088711.txt': 1.0, '078681.txt': 1.0, '070711.txt': 1.0, '050190.txt': 1.0, '060807.txt': 1.0, '008771.txt': 1.0, '087599.txt': 1.0, '009186.txt': 1.0, '038947.txt': 1.0, '046489.txt': 1.0, '015031.txt': 1.0, '074582.txt': 1.0, '000092.txt': 1.0, '089555.txt': 1.0, '057136.txt': 1.0, '079913.txt': 1.0, '076990.txt': 1.0, '092332.txt': 1.0, '024157.txt': 1.0, '085841.txt': 1.0, '069872.txt': 1.0, '007667.txt': 1.0, '024481.txt': 1.0, '098226.txt': 1.0, '060686.txt': 1.0, '099856.txt': 1.0, '058009.txt': 1.0, '001510.txt': 1.0, '069976.txt': 1.0, '077380.txt': 1.0, '029645.txt': 1.0, '068503.txt': 1.0, '015327.txt': 1.0, '014909.txt': 1.0, '022731.txt': 1.0, '070873.txt': 1.0, '055208.txt': 1.0, '042691.txt': 1.0, '005409.txt': 1.0, '007137.txt': 1.0, '061651.txt': 1.0, '081919.txt': 1.0, '087285.txt': 1.0, '026213.txt': 1.0, '000669.txt': 1.0, '096028.txt': 1.0, '099898.txt': 1.0, '017391.txt': 1.0, '069092.txt': 1.0, '011450.txt': 1.0, '070433.txt': 1.0, '076365.txt': 1.0, '055693.txt': 1.0, '098576.txt': 1.0, '056717.txt': 1.0, '037710.txt': 1.0, '092224.txt': 1.0, '079208.txt': 1.0, '060780.txt': 1.0, '035213.txt': 1.0, '046478.txt': 1.0, '031641.txt': 1.0, '015420.txt': 1.0, '004700.txt': 1.0, '096651.txt': 1.0, '057424.txt': 1.0, '064109.txt': 1.0, '022931.txt': 1.0, '014007.txt': 1.0, '080737.txt': 1.0, '045787.txt': 1.0, '003865.txt': 1.0, '005830.txt': 1.0, '022361.txt': 1.0, '080480.txt': 1.0, '001884.txt': 1.0, '056909.txt': 1.0, '095431.txt': 1.0, '002760.txt': 1.0, '012713.txt': 1.0, '014411.txt': 1.0, '080529.txt': 1.0, '040801.txt': 1.0, '079849.txt': 1.0, '096695.txt': 1.0, '016293.txt': 1.0, '084828.txt': 1.0, '098780.txt': 1.0, '003218.txt': 1.0, '081689.txt': 1.0, '087773.txt': 1.0, '003595.txt': 1.0, '078779.txt': 1.0, '062394.txt': 1.0, '041233.txt': 1.0, '037809.txt': 1.0, '064936.txt': 1.0, '006909.txt': 1.0, '079672.txt': 1.0, '005862.txt': 1.0, '069632.txt': 1.0, '064402.txt': 1.0, '020453.txt': 1.0, '054027.txt': 1.0, '052766.txt': 1.0, '076969.txt': 1.0, '023818.txt': 1.0, '046310.txt': 1.0, '052909.txt': 1.0, '079200.txt': 1.0, '053170.txt': 1.0, '091318.txt': 1.0, '055546.txt': 1.0, '011121.txt': 1.0, '039086.txt': 1.0, '086222.txt': 1.0, '043523.txt': 1.0, '098080.txt': 1.0, '097926.txt': 1.0, '072112.txt': 1.0, '086250.txt': 1.0, '057595.txt': 1.0, '013201.txt': 1.0, '043843.txt': 1.0, '071437.txt': 1.0, '080552.txt': 1.0, '048477.txt': 1.0, '056963.txt': 1.0, '078211.txt': 1.0, '036579.txt': 1.0, '031532.txt': 1.0, '060404.txt': 1.0, '097961.txt': 1.0, '064116.txt': 1.0, '073640.txt': 1.0, '016438.txt': 1.0, '000085.txt': 1.0, '052474.txt': 1.0, '090936.txt': 1.0, '069675.txt': 1.0, '099551.txt': 1.0, '096679.txt': 1.0, '072292.txt': 1.0, '028914.txt': 1.0, '048696.txt': 1.0, '069228.txt': 1.0, '038962.txt': 1.0, '011447.txt': 1.0, '093729.txt': 1.0, '092346.txt': 1.0, '050332.txt': 1.0, '051749.txt': 1.0, '060653.txt': 1.0, '020351.txt': 1.0, '019821.txt': 1.0, '076286.txt': 1.0, '065642.txt': 1.0, '026998.txt': 1.0, '012796.txt': 1.0, '061781.txt': 1.0, '052170.txt': 1.0, '072315.txt': 1.0, '000393.txt': 1.0, '093206.txt': 1.0, '084496.txt': 1.0, '035016.txt': 1.0, '011976.txt': 1.0, '003263.txt': 1.0, '079235.txt': 1.0, '080908.txt': 1.0, '057543.txt': 1.0, '059429.txt': 1.0, '024224.txt': 1.0, '071899.txt': 1.0, '087884.txt': 1.0, '083380.txt': 1.0, '026056.txt': 1.0, '026686.txt': 1.0, '041961.txt': 1.0, '060931.txt': 1.0, '034867.txt': 1.0, '073337.txt': 1.0, '069868.txt': 1.0, '039621.txt': 1.0, '046266.txt': 1.0, '019591.txt': 1.0, '017738.txt': 1.0, '060425.txt': 1.0, '015997.txt': 1.0, '024927.txt': 1.0, '099124.txt': 1.0, '023005.txt': 1.0, '076138.txt': 1.0, '024409.txt': 1.0, '061129.txt': 1.0, '048230.txt': 1.0, '082829.txt': 1.0, '097067.txt': 1.0, '065028.txt': 1.0, '082790.txt': 1.0, '061177.txt': 1.0, '008173.txt': 1.0, '078150.txt': 1.0, '025322.txt': 1.0, '042740.txt': 1.0, '031822.txt': 1.0, '013611.txt': 1.0, '093057.txt': 1.0, '061521.txt': 1.0, '002314.txt': 1.0, '089448.txt': 1.0, '069510.txt': 1.0, '066101.txt': 1.0, '062618.txt': 1.0, '021820.txt': 1.0, '072069.txt': 1.0, '056205.txt': 1.0, '077346.txt': 1.0, '073405.txt': 1.0, '002449.txt': 1.0, '076685.txt': 1.0, '067125.txt': 1.0, '069739.txt': 1.0, '065127.txt': 1.0, '065307.txt': 1.0, '065387.txt': 1.0, '063210.txt': 1.0, '048376.txt': 1.0, '006842.txt': 1.0, '058297.txt': 1.0, '073526.txt': 1.0, '096228.txt': 1.0, '089959.txt': 1.0, '044675.txt': 1.0, '014837.txt': 1.0, '024374.txt': 1.0, '098965.txt': 1.0, '085278.txt': 1.0, '032083.txt': 1.0, '036387.txt': 1.0, '065832.txt': 1.0, '020040.txt': 1.0, '036382.txt': 1.0, '056515.txt': 1.0, '052609.txt': 1.0, '091177.txt': 1.0, '094410.txt': 1.0, '083654.txt': 1.0, '074753.txt': 1.0, '051820.txt': 1.0, '074696.txt': 1.0, '003516.txt': 1.0, '049344.txt': 1.0, '081803.txt': 1.0, '006926.txt': 1.0, '006756.txt': 1.0, '076003.txt': 1.0, '010360.txt': 1.0, '043608.txt': 1.0, '036746.txt': 1.0, '013019.txt': 1.0, '005978.txt': 1.0, '052846.txt': 1.0, '024269.txt': 1.0, '030546.txt': 1.0, '050729.txt': 1.0, '033703.txt': 1.0, '002648.txt': 1.0, '055907.txt': 1.0, '045846.txt': 1.0, '068921.txt': 1.0, '040011.txt': 1.0, '082631.txt': 1.0, '095429.txt': 1.0, '092144.txt': 1.0, '074104.txt': 1.0, '079773.txt': 1.0, '085920.txt': 1.0, '066880.txt': 1.0, '072166.txt': 1.0, '031664.txt': 1.0, '002770.txt': 1.0, '078583.txt': 1.0, '016178.txt': 1.0, '082393.txt': 1.0, '049750.txt': 1.0, '076684.txt': 1.0, '002656.txt': 1.0, '057990.txt': 1.0, '076640.txt': 1.0, '018383.txt': 1.0, '081422.txt': 1.0, '021995.txt': 1.0, '088208.txt': 1.0, '002669.txt': 1.0, '074264.txt': 1.0, '055104.txt': 1.0, '023744.txt': 1.0, '032353.txt': 1.0, '083595.txt': 1.0, '000031.txt': 1.0, '089050.txt': 1.0, '096245.txt': 1.0, '086288.txt': 1.0, '094196.txt': 1.0, '050119.txt': 1.0, '012587.txt': 1.0, '080304.txt': 1.0, '067346.txt': 1.0, '087535.txt': 1.0, '018234.txt': 1.0, '017190.txt': 1.0, '030315.txt': 1.0, '029713.txt': 1.0, '050998.txt': 1.0, '030050.txt': 1.0, '033327.txt': 1.0, '069178.txt': 1.0, '039187.txt': 1.0, '030370.txt': 1.0, '052168.txt': 1.0, '005113.txt': 1.0, '024179.txt': 1.0, '020951.txt': 1.0, '056324.txt': 1.0, '079285.txt': 1.0, '083142.txt': 1.0, '017025.txt': 1.0, '099439.txt': 1.0, '092690.txt': 1.0, '056799.txt': 1.0, '027316.txt': 1.0, '037140.txt': 1.0, '085782.txt': 1.0, '076011.txt': 1.0, '099814.txt': 1.0, '042545.txt': 1.0, '084570.txt': 1.0, '041293.txt': 1.0, '093797.txt': 1.0, '052633.txt': 1.0, '024429.txt': 1.0, '066955.txt': 1.0, '074927.txt': 1.0, '034805.txt': 1.0, '093214.txt': 1.0, '096966.txt': 1.0, '003915.txt': 1.0, '089811.txt': 1.0, '035918.txt': 1.0, '033823.txt': 1.0, '099372.txt': 1.0, '089304.txt': 1.0, '060132.txt': 1.0, '021818.txt': 1.0, '024341.txt': 1.0, '087161.txt': 1.0, '059383.txt': 1.0, '049905.txt': 1.0, '099508.txt': 1.0, '089468.txt': 1.0, '011346.txt': 1.0, '025675.txt': 1.0, '005267.txt': 1.0, '039301.txt': 1.0, '070222.txt': 1.0, '095993.txt': 1.0, '010024.txt': 1.0, '039769.txt': 1.0, '043560.txt': 1.0, '007286.txt': 1.0, '026185.txt': 1.0, '001947.txt': 1.0, '088234.txt': 1.0, '035994.txt': 1.0, '077844.txt': 1.0, '045673.txt': 1.0, '032248.txt': 1.0, '068739.txt': 1.0, '035718.txt': 1.0, '085737.txt': 1.0, '023731.txt': 1.0, '012111.txt': 1.0, '055858.txt': 1.0, '006307.txt': 1.0, '040690.txt': 1.0, '074125.txt': 1.0, '010628.txt': 1.0, '051640.txt': 1.0, '081491.txt': 1.0, '022477.txt': 1.0, '052454.txt': 1.0, '030675.txt': 1.0, '015055.txt': 1.0, '069213.txt': 1.0, '051097.txt': 1.0, '013029.txt': 1.0, '081113.txt': 1.0, '068655.txt': 1.0, '043298.txt': 1.0, '037221.txt': 1.0, '067620.txt': 1.0, '089515.txt': 1.0, '041390.txt': 1.0, '057191.txt': 1.0, '021601.txt': 1.0, '050666.txt': 1.0, '007698.txt': 1.0, '027247.txt': 1.0, '028416.txt': 1.0, '049261.txt': 1.0, '022160.txt': 1.0, '087257.txt': 1.0, '097987.txt': 1.0, '042957.txt': 1.0, '081163.txt': 1.0, '031336.txt': 1.0, '039772.txt': 1.0, '061196.txt': 1.0, '075817.txt': 1.0, '016748.txt': 1.0, '021652.txt': 1.0, '000605.txt': 1.0, '014510.txt': 1.0, '046762.txt': 1.0, '067658.txt': 1.0, '031383.txt': 1.0, '074300.txt': 1.0, '047695.txt': 1.0, '049802.txt': 1.0, '089065.txt': 1.0, '007283.txt': 1.0, '022823.txt': 1.0, '045061.txt': 1.0, '080457.txt': 1.0, '003992.txt': 1.0, '017617.txt': 1.0, '076477.txt': 1.0, '040417.txt': 1.0, '098981.txt': 1.0, '057494.txt': 1.0, '074679.txt': 1.0, '001153.txt': 1.0, '022534.txt': 1.0, '050237.txt': 1.0, '046955.txt': 1.0, '031872.txt': 1.0, '032116.txt': 1.0, '010127.txt': 1.0, '078963.txt': 1.0, '066012.txt': 1.0, '045545.txt': 1.0, '088672.txt': 1.0, '085192.txt': 1.0, '042761.txt': 1.0, '061668.txt': 1.0, '016253.txt': 1.0, '094548.txt': 1.0, '033796.txt': 1.0, '090433.txt': 1.0, '065299.txt': 1.0, '050486.txt': 1.0, '005768.txt': 1.0, '087656.txt': 1.0, '020090.txt': 1.0, '024403.txt': 1.0, '097279.txt': 1.0, '070553.txt': 1.0, '085232.txt': 1.0, '025194.txt': 1.0, '021797.txt': 1.0, '006766.txt': 1.0, '090592.txt': 1.0, '095324.txt': 1.0, '004933.txt': 1.0, '099706.txt': 1.0, '031074.txt': 1.0, '046349.txt': 1.0, '036666.txt': 1.0, '054233.txt': 1.0, '031140.txt': 1.0, '086163.txt': 1.0, '025252.txt': 1.0, '089577.txt': 1.0, '003681.txt': 1.0, '031784.txt': 1.0, '012328.txt': 1.0, '009309.txt': 1.0, '058990.txt': 1.0, '020114.txt': 1.0, '091168.txt': 1.0, '049599.txt': 1.0, '030557.txt': 1.0, '073279.txt': 1.0, '039860.txt': 1.0, '015260.txt': 1.0, '066861.txt': 1.0, '097970.txt': 1.0, '078432.txt': 1.0, '037341.txt': 1.0, '041466.txt': 1.0, '044549.txt': 1.0, '016020.txt': 1.0, '005430.txt': 1.0, '033709.txt': 1.0, '025422.txt': 1.0, '099187.txt': 0.9705882352941176, '066278.txt': 0.9473684210526315, '062436.txt': 0.9444444444444444, '002236.txt': 0.9375, '037853.txt': 0.9354838709677419, '038373.txt': 0.9333333333333333, '076491.txt': 0.9285714285714286, '015020.txt': 0.9285714285714286, '055154.txt': 0.9285714285714286, '028359.txt': 0.9230769230769231, '097277.txt': 0.92, '004541.txt': 0.9166666666666666, '061878.txt': 0.9090909090909091, '031853.txt': 0.9090909090909091, '067329.txt': 0.9090909090909091, '093016.txt': 0.9047619047619048, '099064.txt': 0.9047619047619048, '069049.txt': 0.9, '048137.txt': 0.9, '028684.txt': 0.9, '024022.txt': 0.9, '053848.txt': 0.8888888888888888, '037117.txt': 0.8888888888888888, '073494.txt': 0.8888888888888888, '056342.txt': 0.8888888888888888, '020165.txt': 0.8888888888888888, '094198.txt': 0.8888888888888888, '006304.txt': 0.8888888888888888, '089818.txt': 0.8823529411764706, '075527.txt': 0.875, '049423.txt': 0.875, '063855.txt': 0.875, '010822.txt': 0.875, '045251.txt': 0.875, '052265.txt': 0.875, '083086.txt': 0.8571428571428571, '017471.txt': 0.8571428571428571, '033096.txt': 0.8571428571428571, '019275.txt': 0.8571428571428571, '058993.txt': 0.8571428571428571, '056002.txt': 0.8571428571428571, '066194.txt': 0.8461538461538461, '079028.txt': 0.8333333333333334, '034622.txt': 0.8333333333333334, '086570.txt': 0.8333333333333334, '011086.txt': 0.8333333333333334, '073784.txt': 0.8333333333333334, '004471.txt': 0.8333333333333334, '008882.txt': 0.8333333333333334, '046017.txt': 0.8, '071181.txt': 0.8, '016165.txt': 0.8, '085279.txt': 0.8, '086477.txt': 0.8, '002393.txt': 0.8, '074006.txt': 0.8, '005628.txt': 0.7777777777777778, '076483.txt': 0.7777777777777778, '073000.txt': 0.7727272727272727, '015161.txt': 0.7692307692307693, '074245.txt': 0.7619047619047619, '065680.txt': 0.75, '042705.txt': 0.75, '098605.txt': 0.75, '037011.txt': 0.75, '094946.txt': 0.75, '050382.txt': 0.75, '022093.txt': 0.7391304347826086, '083342.txt': 0.7272727272727273, '055216.txt': 0.7142857142857143, '092127.txt': 0.7142857142857143, '002716.txt': 0.7142857142857143, '039421.txt': 0.6666666666666666, '007135.txt': 0.6666666666666666, '024648.txt': 0.6666666666666666, '046080.txt': 0.6666666666666666, '000447.txt': 0.6666666666666666, '027864.txt': 0.6666666666666666, '050528.txt': 0.6666666666666666, '084981.txt': 0.6666666666666666, '050437.txt': 0.6666666666666666, '098353.txt': 0.6666666666666666, '006113.txt': 0.6666666666666666, '071619.txt': 0.6666666666666666, '005051.txt': 0.6666666666666666, '000418.txt': 0.6363636363636364, '093286.txt': 0.6, '017701.txt': 0.6, '016058.txt': 0.5, '048771.txt': 0.5, '018440.txt': 0.5, '029207.txt': 0.5, '007365.txt': 0.5, '045104.txt': 0.5, '027503.txt': 0.5, '015966.txt': 0.42857142857142855, '004066.txt': 0.4166666666666667, '036162.txt': 0.3333333333333333, '035550.txt': 0.3333333333333333, '073660.txt': 0.3333333333333333, '036157.txt': 0.3333333333333333, '083224.txt': 0.3333333333333333, '049784.txt': 0.3333333333333333, '023107.txt': 0.3333333333333333, '017699.txt': 0.25, '077071.txt': 0.2, '052702.txt': 0.16666666666666666, '071236.txt': 0.0, '040239.txt': 0.0, '056962.txt': 0.0, '048500.txt': 0.0, '062926.txt': 0.0, '037440.txt': 0.0, '023554.txt': 0.0, '055968.txt': 0.0, '081675.txt': 0.0, '048888.txt': 0.0, '080135.txt': 0.0, '006922.txt': 0.0, '097104.txt': 0.0, '004492.txt': 0.0, '001127.txt': 0.0}) \n",
            "\n",
            "0.9336843681010599\n",
            "1.0\n"
          ]
        }
      ]
    },
    {
      "cell_type": "markdown",
      "source": [
        "# Avaliacao para diferentes Ks"
      ],
      "metadata": {
        "id": "NUOTzETQFdNI"
      }
    },
    {
      "cell_type": "code",
      "source": [
        "#Vary K from x to y, adding 5\n",
        "k = list(range(0,120,5))\n",
        "\n",
        "#define threshold \n",
        "threshold = 0.0\n",
        "\n",
        "# Compute the maps for analysis\n",
        "doc_to_dominant_topic = generate_dominant_map(bert_result_file) #dict: doc -> dominant topic ; 4415 items\n",
        "doc_to_refs = generate_document_map(document_references_file) #dict: query -> answers ; 650 items (queries)\n",
        "\n",
        "\n",
        "#generate many maps \n",
        "top_k = []\n",
        "for i in k:\n",
        "  #top_k.append(generate_top_k_map(bert_result_file,i)) # no threshould considered\n",
        "  top_k.append(generate_top_k_map_threshold(bert_result_file,i,threshold))\n",
        "\n",
        "answers = []\n",
        "for key in top_k:\n",
        " try: \n",
        "  recall_k = dominant_inside_top_k_type1(doc_to_dominant_topic, key, doc_to_refs)\n",
        "  avg_recall = statistics.mean(recall_k.values())\n",
        "  answers.append(avg_recall)\n",
        " except:\n",
        "  continue\n"
      ],
      "metadata": {
        "id": "vnXMyfDtr8hL"
      },
      "execution_count": null,
      "outputs": []
    },
    {
      "cell_type": "code",
      "source": [
        "for number in answers:\n",
        "  print(\"{:10.4f}\".format(number)) \n"
      ],
      "metadata": {
        "id": "MCnRcZdLsM6C"
      },
      "execution_count": null,
      "outputs": []
    },
    {
      "cell_type": "code",
      "source": [
        "#plot recall vs K\n",
        "\n",
        "import matplotlib.pyplot as plt \n",
        "\n",
        "#k.insert(0, '1')\n",
        "x = k\n",
        "#answers.insert(0,'0.46')\n",
        "y=answers\n",
        "\n",
        "plt.xlabel(\"K*5\")\n",
        "plt.ylabel(\"Recall\")\n",
        "plt.title('threshold = 0.2')\n",
        "plt.plot(y, marker = 'o')\n",
        "plt.grid()\n",
        "plt.show()  "
      ],
      "metadata": {
        "colab": {
          "base_uri": "https://localhost:8080/",
          "height": 295
        },
        "id": "H0A1Q7uDsaHI",
        "outputId": "bd42d09c-9d31-4af7-d0f7-0c8eea8f62c0"
      },
      "execution_count": null,
      "outputs": [
        {
          "output_type": "display_data",
          "data": {
            "text/plain": [
              "<Figure size 432x288 with 1 Axes>"
            ],
            "image/png": "[encoded data removed]"
          },
          "metadata": {
            "needs_background": "light"
          }
        }
      ]
    },
    {
      "cell_type": "markdown",
      "source": [
        "# Avaliação final: Precision e Recall com K máximo (K=117)"
      ],
      "metadata": {
        "id": "5lnkNK-OBjig"
      }
    },
    {
      "cell_type": "code",
      "source": [
        "# GeraR a list de docs, K tÓPICOS dominantes e Perc contrib\n",
        "def generate_map_doc_percent_contrib(csv_filepath) -> map:\n",
        "    df = pd.read_csv(csv_filepath, sep=\",\")\n",
        "    return dict(zip(df.Document_id, df.Topic_Perc_Contrib))\n",
        "\n",
        "#FUNCAO COM ERRO, PRECISA SER AJUSTADA\n",
        "#Gerar listas que docs que possuem o tópico dominante z da query no Top k, e em que posição esse tópico aparece\n",
        "def query_to_filtered_candidates(documents_topk_map, query_to_dominant):\n",
        "    filtered_candidates = dict()\n",
        "    for (query, query_topic) in query_to_dominant.items():\n",
        "        answers=[]\n",
        "        for (candidate, topk) in documents_topk_map.items():\n",
        "            top_k_candidates = topk.replace(\"[\",\"\").replace(\"]\",\"\").split() # ['94', '5', '105', '3', '20']\n",
        "            if (convert_float_to_int_string(query_topic) in top_k_candidates):\n",
        "                index = top_k_candidates.index(convert_float_to_int_string(query_topic))\n",
        "                answers.append([candidate,index+1])\n",
        "            else:\n",
        "                continue\n",
        "        #answers.append([candidate,'NA'])\n",
        "            filtered_candidates[query] = answers\n",
        "    return filtered_candidates #  {'008447.txt': [['021359.txt', 16], ['028184.txt, 20], ...], '005484.txt': [[...]...]}\n",
        "\n",
        "\n",
        "#Gerar um vetor: {query: {candidate->perc_contrib_final, candidate->perc_contrib_final, ...}, query: {}, ....}  \n",
        "## Aplicar a formula : Perc_Contrib_final = Topic_Perc_Contrib / posição no vetor \n",
        "\n",
        "def query_to_candidates_perc_contrib(filtered_candidates,doc_to_perc_contrib):\n",
        " qc_final =dict()\n",
        " for query, candidates in filtered_candidates.items(): # {'025422.txt': [['021359.txt', 85], ['028184.txt', 34],...], '025532.txt': [[...]...]\n",
        "     answers=dict()\n",
        "     for sublist in candidates: # ['021359.txt', 85], ['028184.txt', 34],...]\n",
        "         id,perc = sublist  #['021359.txt', 85]\n",
        "         contrib = doc_to_perc_contrib[id] / perc\n",
        "         answers[id]= contrib\n",
        "     qc_final[query] = answers\n",
        " return qc_final\n",
        "\n",
        "\n"
      ],
      "metadata": {
        "id": "IzsXqgyU1EBU"
      },
      "execution_count": 6,
      "outputs": []
    },
    {
      "cell_type": "markdown",
      "source": [
        "## Gerar lista de candidatos por query, DESC em rel ao perc_contrib_final"
      ],
      "metadata": {
        "id": "N3RRUqrzHlBH"
      }
    },
    {
      "cell_type": "code",
      "source": [
        "#Gerar doc ID -> topK map\n",
        "documents_topk_map_max = generate_topK_max_map(bert_result_file) # '021359.txt': '[ 20   3  19  13 105 107  35...]',\n",
        "#Gerar query -> doc dominante\n",
        "query_to_dominant = generate_dominant_map(queries_to_dominant_topic) # {'008447.txt': 76, ...}\n",
        "#Gerar doc->Perc_Contrib\n",
        "doc_to_perc_contrib = generate_map_doc_percent_contrib(bert_result_file) # {'008447.txt': 76, ...}\n",
        "#Gerar query -> refs\n",
        "doc_to_refs = generate_document_map(document_references_file)\n",
        "\n",
        "##Calcular o percentual_de_contrib do tópico\n",
        "#1. Definir posicao do topico no vetor topk\n",
        "qc_semifinal = query_to_filtered_candidates(documents_topk_map_max, query_to_dominant)\n",
        "\n",
        "#2.Gerar um vetor: {query: {candidate->perc_contrib_final, candidate->perc_contrib_final, ...}, query: {}, ....}        \n",
        "qc_final_all = query_to_candidates_perc_contrib(qc_semifinal,doc_to_perc_contrib)    \n",
        "\n",
        "#3. Ordenar candidatos em relacao ao Perc_contrib_final decrescente\n",
        "x = qc_final_all\n",
        "\n",
        "for key, value in x.items():\n",
        "    x[key] = dict(sorted(value.items(), key=lambda x: x[1],reverse=True))\n",
        "\n",
        "qc_final_desc = x   # {'008447.txt': {'069049.txt': 1.0, '049315.txt':...} ...}\n",
        "\n",
        "#print(qc_final_desc['008447.txt'])  #{'069049.txt': 1.0, '049315.txt': 1.0, '008447.txt': 1.0, ...}\n",
        "\n",
        "#Create a vector: { Query -> [candidates], query -> [candidates] }\n",
        "\n",
        "qc_final_clean = {}\n",
        "for key, value in x.items():\n",
        "    qc_final_clean[key] = set(value.keys())\n",
        "\n",
        "print(qc_final_clean['078422.txt'])  #{'099321.txt', '017054.txt', '015022.txt', '025673.txt',...}\n",
        "\n",
        "#print(filtered_candidates['078422.txt'])\n",
        "#print(doc_to_dominant_topic['078422.txt'])\n",
        "\n",
        "#print(documents_topk_map['021359.txt'])\n",
        "#print(documents_topk_map['021359.txt'])\n",
        "\n"
      ],
      "metadata": {
        "id": "qpbT34r2BjOy",
        "colab": {
          "base_uri": "https://localhost:8080/"
        },
        "outputId": "a7c07f50-aec8-4e26-c7c4-05b87511eb03"
      },
      "execution_count": 22,
      "outputs": [
        {
          "output_type": "stream",
          "name": "stdout",
          "text": [
            "{'018629.txt', '044085.txt', '015599.txt', '045406.txt', '075046.txt', '093241.txt', '001572.txt', '026212.txt', '032629.txt', '036067.txt', '085782.txt', '036826.txt', '050729.txt', '022714.txt', '088089.txt', '052168.txt', '084661.txt', '091970.txt', '040647.txt', '000187.txt', '059544.txt', '079771.txt', '013034.txt', '027864.txt', '017172.txt', '081548.txt', '075535.txt', '026735.txt', '071378.txt', '060425.txt', '047718.txt', '015521.txt', '085516.txt', '028077.txt', '041704.txt', '050269.txt', '089172.txt', '091807.txt', '026334.txt', '033358.txt', '037429.txt', '094784.txt', '034516.txt', '097786.txt', '025897.txt', '032771.txt', '053322.txt', '065469.txt', '009539.txt', '011447.txt', '067329.txt', '008329.txt', '070768.txt', '046349.txt', '071821.txt', '023554.txt', '034072.txt', '063157.txt', '089102.txt', '080797.txt', '087485.txt', '047865.txt', '037117.txt', '081429.txt', '023005.txt', '042352.txt', '085369.txt', '007476.txt', '049423.txt', '026188.txt', '020336.txt', '066483.txt', '055789.txt', '023310.txt', '021529.txt', '038706.txt', '097215.txt', '021081.txt', '056251.txt', '046598.txt', '030890.txt', '020848.txt', '044586.txt', '012713.txt', '021870.txt', '078779.txt', '044698.txt', '066648.txt', '037730.txt', '035327.txt', '079285.txt', '070811.txt', '038211.txt', '079145.txt', '034607.txt', '067288.txt', '032342.txt', '050017.txt', '054641.txt', '053848.txt', '015827.txt', '085500.txt', '016954.txt', '079049.txt', '048400.txt', '027280.txt', '086689.txt', '070482.txt', '051898.txt', '059080.txt', '018452.txt', '099551.txt', '094342.txt', '032583.txt', '046962.txt', '044952.txt', '003243.txt', '003311.txt', '093461.txt', '075345.txt', '029440.txt', '068646.txt', '088702.txt', '048137.txt', '028587.txt', '099118.txt', '048840.txt', '004715.txt', '016051.txt', '033235.txt', '004393.txt', '084579.txt', '095154.txt', '008535.txt', '053700.txt', '037586.txt', '070059.txt', '036969.txt', '050751.txt', '056693.txt', '097279.txt', '018386.txt', '001747.txt', '081030.txt', '058706.txt', '048302.txt', '025393.txt', '030455.txt', '046880.txt', '038217.txt', '014395.txt', '077368.txt', '030679.txt', '010091.txt', '045670.txt', '035469.txt', '097694.txt', '018440.txt', '039140.txt', '057702.txt', '051581.txt', '011904.txt', '036813.txt', '031284.txt', '097291.txt', '075117.txt', '067164.txt', '085285.txt', '063593.txt', '023524.txt', '053577.txt', '023095.txt', '006155.txt', '017780.txt', '015089.txt', '047791.txt', '062879.txt', '096695.txt', '056253.txt', '093770.txt', '069213.txt', '089945.txt', '051401.txt', '011413.txt', '037595.txt', '013534.txt', '008976.txt', '078207.txt', '088086.txt', '012671.txt', '014045.txt', '007054.txt', '034867.txt', '067786.txt', '035263.txt', '071807.txt', '038169.txt', '035767.txt', '008212.txt', '017054.txt', '041138.txt', '022362.txt', '087835.txt', '017617.txt', '066798.txt', '016005.txt', '068174.txt', '077876.txt', '046897.txt', '084929.txt', '064055.txt', '042979.txt', '074094.txt', '079208.txt', '093046.txt', '012983.txt', '013592.txt', '042911.txt', '016786.txt', '014802.txt', '093848.txt', '012896.txt', '063237.txt', '048376.txt', '030220.txt', '007698.txt', '060104.txt', '035125.txt', '058875.txt', '064402.txt', '043903.txt', '020040.txt', '028825.txt', '025476.txt', '089987.txt', '021528.txt', '050842.txt', '096028.txt', '099167.txt', '007323.txt', '070873.txt', '035350.txt', '012025.txt', '037317.txt', '060439.txt', '007419.txt', '052706.txt', '090639.txt', '016736.txt', '030370.txt', '072682.txt', '089244.txt', '082154.txt', '060126.txt', '036276.txt', '058826.txt', '056342.txt', '061196.txt', '083858.txt', '021893.txt', '002070.txt', '057636.txt', '018950.txt', '052846.txt', '091097.txt', '094384.txt', '015420.txt', '015881.txt', '038957.txt', '068182.txt', '065257.txt', '002795.txt', '007286.txt', '059907.txt', '019855.txt', '014524.txt', '053199.txt', '085894.txt', '078640.txt', '050998.txt', '021971.txt', '058858.txt', '087402.txt', '035282.txt', '072721.txt', '079200.txt', '079737.txt', '045501.txt', '024403.txt', '028396.txt', '069092.txt', '090917.txt', '013757.txt', '053270.txt', '026686.txt', '060204.txt', '071433.txt', '002968.txt', '035266.txt', '045240.txt', '095843.txt', '033923.txt', '083457.txt', '066237.txt', '014533.txt', '024384.txt', '009191.txt', '092747.txt', '026049.txt', '005021.txt', '097876.txt', '040096.txt', '053226.txt', '021073.txt', '031572.txt', '082127.txt', '027678.txt', '084507.txt', '013899.txt', '055464.txt', '067737.txt', '004673.txt', '012695.txt', '056324.txt', '088958.txt', '076889.txt', '007161.txt', '007287.txt', '011681.txt', '074195.txt', '015020.txt', '054550.txt', '097441.txt', '079659.txt', '087256.txt', '078150.txt', '060686.txt', '067911.txt', '093992.txt', '022185.txt', '052474.txt', '006766.txt', '042106.txt', '061416.txt', '038264.txt', '089468.txt', '025252.txt', '079235.txt', '024481.txt', '008311.txt', '001621.txt', '062350.txt', '030119.txt', '090455.txt', '082790.txt', '019341.txt', '062414.txt', '077071.txt', '062470.txt', '005830.txt', '006018.txt', '046441.txt', '094056.txt', '049261.txt', '074527.txt', '003206.txt', '034273.txt', '049074.txt', '040927.txt', '013164.txt', '095979.txt', '049347.txt', '054495.txt', '060582.txt', '099726.txt', '009743.txt', '079354.txt', '099439.txt', '054327.txt', '001706.txt', '049015.txt', '006434.txt', '024429.txt', '014770.txt', '069122.txt', '069335.txt', '051097.txt', '003184.txt', '087572.txt', '010822.txt', '027878.txt', '077346.txt', '040597.txt', '031425.txt', '098954.txt', '054782.txt', '001934.txt', '087999.txt', '037340.txt', '056713.txt', '089789.txt', '091192.txt', '056962.txt', '082167.txt', '005768.txt', '067881.txt', '001067.txt', '065999.txt', '056433.txt', '055373.txt', '005954.txt', '014486.txt', '033989.txt', '035030.txt', '020090.txt', '035956.txt', '080318.txt', '067428.txt', '096079.txt', '005862.txt', '039155.txt', '035247.txt', '090319.txt', '080510.txt', '044982.txt', '076003.txt', '039109.txt', '014746.txt', '019289.txt', '057661.txt', '049170.txt', '001571.txt', '063164.txt', '085919.txt', '060904.txt', '027529.txt', '005409.txt', '085341.txt', '010468.txt', '030734.txt', '045782.txt', '005051.txt', '096103.txt', '056344.txt', '090295.txt', '016165.txt', '011922.txt', '069171.txt', '032166.txt', '003622.txt', '002581.txt', '033455.txt', '075703.txt', '076168.txt', '086958.txt', '069561.txt', '055411.txt', '052370.txt', '059383.txt', '072352.txt', '050496.txt', '064675.txt', '027411.txt', '057123.txt', '034428.txt', '076186.txt', '040092.txt', '009650.txt', '093192.txt', '031407.txt', '018234.txt', '031680.txt', '082630.txt', '041865.txt', '066993.txt', '098576.txt', '022934.txt', '007777.txt', '037501.txt', '053355.txt', '017698.txt', '069228.txt', '088885.txt', '065836.txt', '003746.txt', '059519.txt', '071233.txt', '062154.txt', '071619.txt', '051096.txt', '038936.txt', '028675.txt', '060474.txt', '094606.txt', '026110.txt', '012067.txt', '080121.txt', '035530.txt', '052514.txt', '003796.txt', '086260.txt', '075398.txt', '065314.txt', '028359.txt', '071261.txt', '040801.txt', '065051.txt', '038641.txt', '078681.txt', '074965.txt', '074101.txt', '065240.txt', '052702.txt', '077217.txt', '053532.txt', '055056.txt', '043014.txt', '052633.txt', '067171.txt', '031117.txt', '057196.txt', '060081.txt', '029200.txt', '077342.txt', '073000.txt', '043526.txt', '031140.txt', '005082.txt', '082480.txt', '088007.txt', '022849.txt', '012978.txt', '044002.txt', '051520.txt', '030315.txt', '030546.txt', '000464.txt', '054268.txt', '088140.txt', '041470.txt', '042206.txt', '068014.txt', '092885.txt', '000054.txt', '070407.txt', '074363.txt', '037510.txt', '037565.txt', '086570.txt', '094354.txt', '002393.txt', '023013.txt', '051157.txt', '029817.txt', '078657.txt', '061630.txt', '052807.txt', '002127.txt', '076990.txt', '093580.txt', '092169.txt', '029475.txt', '063432.txt', '061597.txt', '013847.txt', '076758.txt', '004492.txt', '089555.txt', '074582.txt', '060945.txt', '032809.txt', '083115.txt', '019130.txt', '078222.txt', '030097.txt', '053732.txt', '090825.txt', '051433.txt', '059173.txt', '008419.txt', '093907.txt', '069872.txt', '033449.txt', '009076.txt', '048251.txt', '067504.txt', '074921.txt', '093729.txt', '007627.txt', '014176.txt', '002788.txt', '054189.txt', '061129.txt', '026774.txt', '041998.txt', '087161.txt', '002117.txt', '036584.txt', '058989.txt', '096245.txt', '091543.txt', '069405.txt', '049823.txt', '018067.txt', '045251.txt', '035918.txt', '060692.txt', '049243.txt', '095441.txt', '032107.txt', '050379.txt', '068397.txt', '030313.txt', '000755.txt', '001322.txt', '021416.txt', '024670.txt', '042957.txt', '025707.txt', '097564.txt', '020537.txt', '012034.txt', '015260.txt', '004608.txt', '028827.txt', '016243.txt', '028517.txt', '076550.txt', '097343.txt', '002016.txt', '008653.txt', '021972.txt', '076732.txt', '095961.txt', '079981.txt', '092874.txt', '024341.txt', '002619.txt', '036471.txt', '005497.txt', '007876.txt', '017143.txt', '086288.txt', '011346.txt', '007163.txt', '019492.txt', '039227.txt', '077675.txt', '038739.txt', '009670.txt', '086378.txt', '032083.txt', '065127.txt', '041423.txt', '085320.txt', '033265.txt', '040177.txt', '032510.txt', '089051.txt', '076292.txt', '098371.txt', '096966.txt', '001591.txt', '050313.txt', '073819.txt', '066461.txt', '072302.txt', '034144.txt', '000798.txt', '028184.txt', '003218.txt', '011699.txt', '034187.txt', '098568.txt', '046867.txt', '064729.txt', '099576.txt', '092149.txt', '015365.txt', '075182.txt', '028292.txt', '074696.txt', '060404.txt', '026529.txt', '084276.txt', '036232.txt', '062037.txt', '025385.txt', '050424.txt', '050847.txt', '006756.txt', '094505.txt', '033460.txt', '098441.txt', '088208.txt', '044157.txt', '018603.txt', '021905.txt', '038025.txt', '093753.txt', '064667.txt', '026998.txt', '038096.txt', '014480.txt', '057136.txt', '039421.txt', '019569.txt', '022244.txt', '078488.txt', '082308.txt', '020308.txt', '034935.txt', '006957.txt', '013230.txt', '029293.txt', '062528.txt', '072700.txt', '034038.txt', '021169.txt', '009154.txt', '049763.txt', '015055.txt', '025675.txt', '075124.txt', '076103.txt', '046527.txt', '086001.txt', '044769.txt', '047594.txt', '012548.txt', '026075.txt', '044918.txt', '026248.txt', '067215.txt', '043981.txt', '092127.txt', '038005.txt', '002964.txt', '028253.txt', '060685.txt', '054656.txt', '039051.txt', '047587.txt', '037559.txt', '011680.txt', '034408.txt', '051345.txt', '067234.txt', '066780.txt', '096310.txt', '027823.txt', '036792.txt', '029204.txt', '004448.txt', '038737.txt', '037140.txt', '091177.txt', '059345.txt', '072771.txt', '099452.txt', '023347.txt', '091720.txt', '031331.txt', '078213.txt', '092499.txt', '000263.txt', '077322.txt', '099591.txt', '048714.txt', '040974.txt', '063015.txt', '003252.txt', '012364.txt', '092356.txt', '022701.txt', '023731.txt', '062274.txt', '086666.txt', '014635.txt', '076949.txt', '040639.txt', '075343.txt', '060952.txt', '071304.txt', '042328.txt', '086198.txt', '085278.txt', '076572.txt', '093851.txt', '057673.txt', '064463.txt', '004523.txt', '045608.txt', '014647.txt', '089360.txt', '024950.txt', '065255.txt', '076223.txt', '067958.txt', '082634.txt', '023521.txt', '030675.txt', '058774.txt', '051916.txt', '085301.txt', '088955.txt', '063929.txt', '062259.txt', '035994.txt', '056011.txt', '046148.txt', '086907.txt', '095301.txt', '051517.txt', '012060.txt', '023818.txt', '008175.txt', '048131.txt', '050890.txt', '087884.txt', '004346.txt', '054431.txt', '074681.txt', '058890.txt', '065680.txt', '046626.txt', '052170.txt', '061769.txt', '063934.txt', '017566.txt', '048154.txt', '072069.txt', '095143.txt', '052354.txt', '061770.txt', '043690.txt', '025826.txt', '056799.txt', '040572.txt', '084902.txt', '067054.txt', '080049.txt', '034775.txt', '035402.txt', '065267.txt', '090805.txt', '015022.txt', '040685.txt', '057046.txt', '040964.txt', '054233.txt', '048645.txt', '005570.txt', '059291.txt', '087670.txt', '068408.txt', '050912.txt', '011133.txt', '018381.txt', '044567.txt', '069189.txt', '057495.txt', '074434.txt', '076001.txt', '074080.txt', '067301.txt', '088181.txt', '036945.txt', '073452.txt', '001263.txt', '024409.txt', '063427.txt', '021663.txt', '035591.txt', '020678.txt', '036387.txt', '053540.txt', '047695.txt', '019821.txt', '007225.txt', '005113.txt', '016195.txt', '079458.txt', '017231.txt', '065916.txt', '017359.txt', '052737.txt', '082598.txt', '097128.txt', '021721.txt', '002914.txt', '011137.txt', '010115.txt', '089714.txt', '035340.txt', '008173.txt', '061918.txt', '012111.txt', '051691.txt', '026056.txt', '041441.txt', '031859.txt', '044332.txt', '018605.txt', '023741.txt', '001351.txt', '022939.txt', '086556.txt', '026970.txt', '068587.txt', '032871.txt', '049808.txt', '052525.txt', '051020.txt', '013522.txt', '094522.txt', '035016.txt', '055072.txt', '092703.txt', '079447.txt', '072553.txt', '049249.txt', '084393.txt', '058993.txt', '030978.txt', '060316.txt', '056063.txt', '057114.txt', '045673.txt', '071209.txt', '012729.txt', '009092.txt', '066833.txt', '059466.txt', '002409.txt', '092743.txt', '021885.txt', '086777.txt', '045155.txt', '069088.txt', '084704.txt', '031401.txt', '047227.txt', '029645.txt', '069741.txt', '053095.txt', '036579.txt', '016458.txt', '032764.txt', '070355.txt', '037354.txt', '090123.txt', '073752.txt', '001781.txt', '064759.txt', '009785.txt', '018205.txt', '042252.txt', '057895.txt', '040999.txt', '098967.txt', '042313.txt', '002572.txt', '025478.txt', '074104.txt', '050603.txt', '054430.txt', '001884.txt', '068720.txt', '070798.txt', '080409.txt', '095571.txt', '028193.txt', '016332.txt', '084570.txt', '084405.txt', '059429.txt', '016278.txt', '001806.txt', '014058.txt', '051922.txt', '062618.txt', '090469.txt', '072369.txt', '056478.txt', '093090.txt', '055693.txt', '038996.txt', '027464.txt', '072854.txt', '030367.txt', '091780.txt', '062422.txt', '051335.txt', '062770.txt', '016201.txt', '029830.txt', '068577.txt', '022457.txt', '056430.txt', '078935.txt', '079508.txt', '019782.txt', '061767.txt', '076832.txt', '000252.txt', '089577.txt', '014202.txt', '073337.txt', '075556.txt', '026154.txt', '065232.txt', '087656.txt', '068739.txt', '046827.txt', '006086.txt', '045104.txt', '095654.txt', '018383.txt', '099754.txt', '023703.txt', '083827.txt', '014499.txt', '045915.txt', '046935.txt', '086143.txt', '011506.txt', '064586.txt', '025167.txt', '070067.txt', '006418.txt', '096361.txt', '067331.txt', '077117.txt', '093019.txt', '064582.txt', '088155.txt', '000590.txt', '078956.txt', '059878.txt', '064936.txt', '045401.txt', '055856.txt', '031427.txt', '015523.txt', '034911.txt', '034990.txt', '082502.txt', '043587.txt', '027503.txt', '021357.txt', '084053.txt', '060128.txt', '083856.txt', '039066.txt', '075446.txt', '010548.txt', '028666.txt', '044746.txt', '080529.txt', '072139.txt', '049096.txt', '020797.txt', '055968.txt', '071334.txt', '065125.txt', '029943.txt', '095942.txt', '081945.txt', '016528.txt', '043573.txt', '020968.txt', '077115.txt', '059901.txt', '027322.txt', '026185.txt', '028250.txt', '056700.txt', '099229.txt', '067125.txt', '097421.txt', '076640.txt', '068060.txt', '057561.txt', '070439.txt', '090395.txt', '041852.txt', '032058.txt', '049239.txt', '025333.txt', '049315.txt', '069085.txt', '052609.txt', '093150.txt', '094249.txt', '028803.txt', '055707.txt', '097029.txt', '018611.txt', '028829.txt', '041374.txt', '079611.txt', '060653.txt', '053868.txt', '014993.txt', '085296.txt', '056874.txt', '007219.txt', '028105.txt', '075669.txt', '030723.txt', '029181.txt', '087915.txt', '044556.txt', '029722.txt', '097335.txt', '017120.txt', '053158.txt', '036442.txt', '020651.txt', '060255.txt', '064694.txt', '047066.txt', '057543.txt', '054715.txt', '011462.txt', '039301.txt', '060111.txt', '066941.txt', '066996.txt', '063492.txt', '076286.txt', '000028.txt', '030902.txt', '075634.txt', '046900.txt', '076198.txt', '058682.txt', '024065.txt', '024818.txt', '001953.txt', '080156.txt', '056778.txt', '083534.txt', '046872.txt', '058965.txt', '031441.txt', '028783.txt', '027450.txt', '067233.txt', '081877.txt', '024811.txt', '041486.txt', '007376.txt', '012146.txt', '010575.txt', '066080.txt', '052417.txt', '033823.txt', '015327.txt', '016252.txt', '086870.txt', '089195.txt', '052082.txt', '017942.txt', '044288.txt', '015594.txt', '076477.txt', '060807.txt', '022376.txt', '049146.txt', '099856.txt', '059640.txt', '091141.txt', '011018.txt', '065677.txt', '025444.txt', '019072.txt', '060278.txt', '033016.txt', '078071.txt', '025673.txt', '050198.txt', '006307.txt', '098878.txt', '034766.txt', '045787.txt', '055807.txt', '007014.txt', '034707.txt', '097689.txt', '021601.txt', '014419.txt', '005585.txt', '062391.txt', '045665.txt', '070317.txt', '008663.txt', '059970.txt', '033703.txt', '012052.txt', '030030.txt', '079847.txt', '054911.txt', '015319.txt', '001025.txt', '014558.txt', '078765.txt', '017306.txt', '050666.txt', '031918.txt', '015814.txt', '085548.txt', '001348.txt', '079433.txt', '089304.txt', '095534.txt', '034079.txt', '077069.txt', '088926.txt', '043298.txt', '060330.txt', '010556.txt', '099162.txt', '078117.txt', '026003.txt', '006113.txt', '087093.txt', '009575.txt', '017190.txt', '032785.txt', '005674.txt', '012328.txt', '093038.txt', '039060.txt', '073968.txt', '041466.txt', '004323.txt', '036740.txt', '006513.txt', '062339.txt', '000986.txt', '030153.txt', '016769.txt', '060853.txt', '093350.txt', '013417.txt', '082689.txt', '041032.txt', '022607.txt', '099329.txt', '064182.txt', '039878.txt', '091668.txt', '047631.txt', '097817.txt', '056441.txt', '092186.txt', '052278.txt', '076107.txt', '070689.txt', '081928.txt', '036300.txt', '060745.txt', '053351.txt', '033190.txt', '072969.txt', '048500.txt', '069854.txt', '024649.txt', '088554.txt', '082701.txt', '040787.txt', '004975.txt', '097961.txt', '002948.txt', '092078.txt', '055545.txt', '068828.txt', '004013.txt', '079849.txt', '086023.txt', '065913.txt', '065078.txt', '072851.txt', '016536.txt', '085737.txt', '037710.txt', '059533.txt', '063525.txt', '063870.txt', '063132.txt', '034592.txt', '046955.txt', '047201.txt', '047244.txt', '005267.txt', '081163.txt', '042174.txt', '019814.txt', '058794.txt', '084255.txt', '088566.txt', '012377.txt', '040011.txt', '041603.txt', '011434.txt', '002364.txt', '031884.txt', '026825.txt', '020829.txt', '034050.txt', '061854.txt', '095229.txt', '037612.txt', '006346.txt', '054190.txt', '007593.txt', '087582.txt', '070886.txt', '077140.txt', '003175.txt', '001867.txt', '087881.txt', '034615.txt', '034597.txt', '032714.txt', '090433.txt', '047160.txt', '025142.txt', '057476.txt', '066490.txt', '013694.txt', '028914.txt', '066554.txt', '051354.txt', '070456.txt', '037221.txt', '043895.txt', '000605.txt', '083231.txt', '031664.txt', '072343.txt', '045071.txt', '025319.txt', '017738.txt', '072571.txt', '050437.txt', '041774.txt', '060590.txt', '008666.txt', '025532.txt', '054880.txt', '020963.txt', '061119.txt', '050144.txt', '080730.txt', '057386.txt', '060132.txt', '076296.txt', '004845.txt', '020114.txt', '041201.txt', '076685.txt', '095431.txt', '091318.txt', '083224.txt', '077458.txt', '089375.txt', '081039.txt', '015738.txt', '039772.txt', '083614.txt', '055357.txt', '099706.txt', '006102.txt', '079376.txt', '055572.txt', '057881.txt', '014830.txt', '019231.txt', '035191.txt', '073526.txt', '012304.txt', '030980.txt', '077592.txt', '084418.txt', '024153.txt', '075466.txt', '098057.txt', '040257.txt', '069267.txt', '033367.txt', '037914.txt', '003351.txt', '015161.txt', '038774.txt', '047555.txt', '049134.txt', '043182.txt', '030552.txt', '090592.txt', '055245.txt', '077635.txt', '003487.txt', '057622.txt', '079672.txt', '063051.txt', '045069.txt', '022093.txt', '037229.txt', '081110.txt', '031193.txt', '089326.txt', '082339.txt', '009887.txt', '002639.txt', '050183.txt', '064799.txt', '089664.txt', '012788.txt', '028878.txt', '072737.txt', '006495.txt', '002744.txt', '097435.txt', '043388.txt', '014007.txt', '092292.txt', '073717.txt', '073370.txt', '040642.txt', '008087.txt', '012869.txt', '019978.txt', '034622.txt', '050969.txt', '071861.txt', '080908.txt', '071754.txt', '083834.txt', '091926.txt', '023328.txt', '053417.txt', '045009.txt', '088914.txt', '000343.txt', '071129.txt', '064835.txt', '035406.txt', '091168.txt', '050924.txt', '029734.txt', '048414.txt', '069067.txt', '014389.txt', '028332.txt', '043561.txt', '066951.txt', '001100.txt', '085192.txt', '015119.txt', '025318.txt', '013550.txt', '034677.txt', '096276.txt', '017130.txt', '012737.txt', '089803.txt', '085437.txt', '078407.txt', '061210.txt', '081113.txt', '073405.txt', '077168.txt', '019700.txt', '023612.txt', '076132.txt', '095324.txt', '003338.txt', '089818.txt', '012831.txt', '049878.txt', '003263.txt', '016224.txt', '088232.txt', '086065.txt', '028842.txt', '045595.txt', '054993.txt', '061651.txt', '002351.txt', '015059.txt', '030394.txt', '033043.txt', '056495.txt', '044730.txt', '076442.txt', '045584.txt', '004069.txt', '071882.txt', '008771.txt', '088786.txt', '060019.txt', '093167.txt', '039086.txt', '055753.txt', '092622.txt', '041379.txt', '018210.txt', '051636.txt', '067022.txt', '043179.txt', '080780.txt', '067860.txt', '063059.txt', '009794.txt', '039860.txt', '070406.txt', '028189.txt', '081491.txt', '073836.txt', '044046.txt', '041150.txt', '061336.txt', '076777.txt', '004732.txt', '090101.txt', '052114.txt', '014294.txt', '035205.txt', '012520.txt', '012178.txt', '074142.txt', '054392.txt', '009888.txt', '000968.txt', '030831.txt', '057080.txt', '066361.txt', '038799.txt', '084543.txt', '056845.txt', '046128.txt', '051229.txt', '041233.txt', '015701.txt', '059798.txt', '013674.txt', '064033.txt', '060030.txt', '049021.txt', '062174.txt', '064085.txt', '053413.txt', '006494.txt', '055832.txt', '037838.txt', '010089.txt', '017370.txt', '081391.txt', '064960.txt', '053642.txt', '098965.txt', '041472.txt', '015505.txt', '086891.txt', '009667.txt', '054304.txt', '083999.txt', '038480.txt', '001227.txt', '042475.txt', '076343.txt', '069918.txt', '024116.txt', '081190.txt', '072315.txt', '004691.txt', '087057.txt', '094941.txt', '027150.txt', '029083.txt', '087824.txt', '013658.txt', '059671.txt', '002648.txt', '098704.txt', '040663.txt', '096679.txt', '069976.txt', '017744.txt', '077541.txt', '016280.txt', '012796.txt', '022804.txt', '040375.txt', '043539.txt', '050953.txt', '039689.txt', '041445.txt', '021347.txt', '084251.txt', '090172.txt', '067468.txt', '079263.txt', '083086.txt', '038867.txt', '069761.txt', '023140.txt', '007465.txt', '005578.txt', '051489.txt', '057703.txt', '021254.txt', '087384.txt', '079631.txt', '077096.txt', '044285.txt', '049493.txt', '072318.txt', '040203.txt', '000866.txt', '028393.txt', '061981.txt', '089065.txt', '053443.txt', '014803.txt', '080622.txt', '092323.txt', '018341.txt', '020739.txt', '031321.txt', '065842.txt', '011202.txt', '046750.txt', '066583.txt', '028118.txt', '039538.txt', '054870.txt', '040175.txt', '076881.txt', '067843.txt', '061172.txt', '078750.txt', '032376.txt', '053705.txt', '027224.txt', '061783.txt', '024224.txt', '057766.txt', '087872.txt', '034071.txt', '086402.txt', '017323.txt', '063260.txt', '036746.txt', '041185.txt', '084235.txt', '048916.txt', '008005.txt', '034900.txt', '055093.txt', '065035.txt', '006769.txt', '035685.txt', '071863.txt', '097104.txt', '034756.txt', '043243.txt', '086481.txt', '007516.txt', '009532.txt', '004933.txt', '064600.txt', '067744.txt', '042705.txt', '079986.txt', '037588.txt', '027881.txt', '066329.txt', '040356.txt', '010886.txt', '061564.txt', '039471.txt', '062942.txt', '061578.txt', '055747.txt', '024142.txt', '077578.txt', '060179.txt', '034373.txt', '097584.txt', '040499.txt', '044484.txt', '081825.txt', '081884.txt', '081919.txt', '061535.txt', '093185.txt', '097512.txt', '068518.txt', '023123.txt', '002997.txt', '024579.txt', '098265.txt', '029728.txt', '091424.txt', '072166.txt', '003530.txt', '002716.txt', '068113.txt', '096299.txt', '052964.txt', '066071.txt', '030374.txt', '022738.txt', '076161.txt', '006476.txt', '058250.txt', '093279.txt', '042101.txt', '071181.txt', '068305.txt', '067472.txt', '093575.txt', '065028.txt', '066957.txt', '001414.txt', '084688.txt', '045649.txt', '033345.txt', '072786.txt', '099187.txt', '000525.txt', '043042.txt', '021115.txt', '070677.txt', '022012.txt', '029207.txt', '090527.txt', '051328.txt', '040902.txt', '046266.txt', '019596.txt', '085230.txt', '006954.txt', '060493.txt', '037853.txt', '093057.txt', '004210.txt', '042545.txt', '088366.txt', '004231.txt', '024008.txt', '007307.txt', '010632.txt', '080657.txt', '081803.txt', '081545.txt', '021873.txt', '030199.txt', '033644.txt', '015619.txt', '096775.txt', '037000.txt', '069516.txt', '023623.txt', '083449.txt', '087175.txt', '057609.txt', '084796.txt', '042480.txt', '070433.txt', '036829.txt', '007345.txt', '017009.txt', '079816.txt', '006312.txt', '056811.txt', '094915.txt', '022190.txt', '020599.txt', '073119.txt', '077413.txt', '064341.txt', '032131.txt', '026106.txt', '012554.txt', '097875.txt', '013651.txt', '001299.txt', '014856.txt', '021652.txt', '037011.txt', '055387.txt', '070553.txt', '063547.txt', '047285.txt', '036096.txt', '046523.txt', '003516.txt', '093382.txt', '059136.txt', '050597.txt', '051530.txt', '023842.txt', '094214.txt', '088222.txt', '032927.txt', '006944.txt', '061882.txt', '059174.txt', '057616.txt', '012280.txt', '064183.txt', '097582.txt', '065018.txt', '026344.txt', '079258.txt', '036935.txt', '087042.txt', '039764.txt', '052979.txt', '053819.txt', '021701.txt', '052683.txt', '067620.txt', '006303.txt', '012346.txt', '044456.txt', '019052.txt', '039824.txt', '067010.txt', '035777.txt', '058251.txt', '006069.txt', '090939.txt', '029438.txt', '072292.txt', '028628.txt', '018723.txt', '097899.txt', '067348.txt', '077831.txt', '001471.txt', '040526.txt', '078432.txt', '096671.txt', '000032.txt', '014041.txt', '089953.txt', '086477.txt', '091031.txt', '075123.txt', '001540.txt', '064027.txt', '085874.txt', '011370.txt', '046489.txt', '034245.txt', '020291.txt', '057484.txt', '011624.txt', '085232.txt', '068338.txt', '078757.txt', '061827.txt', '097832.txt', '047149.txt', '053512.txt', '007418.txt', '010270.txt', '081206.txt', '082665.txt', '024022.txt', '086248.txt', '016546.txt', '082098.txt', '092033.txt', '033171.txt', '060859.txt', '020542.txt', '062820.txt', '024424.txt', '059221.txt', '018967.txt', '046575.txt', '020351.txt', '065312.txt', '025271.txt', '058188.txt', '093062.txt', '024378.txt', '078725.txt', '086998.txt', '016058.txt', '076011.txt', '001893.txt', '031599.txt', '088395.txt', '007802.txt', '081254.txt', '031230.txt', '073279.txt', '050618.txt', '061027.txt', '029657.txt', '034708.txt', '018571.txt', '079653.txt', '038373.txt', '022060.txt', '068929.txt', '044932.txt', '060380.txt', '094015.txt', '064359.txt', '065299.txt', '023981.txt', '067714.txt', '000522.txt', '045285.txt', '061931.txt', '027933.txt', '015396.txt', '030098.txt', '022855.txt', '017147.txt', '031929.txt', '079028.txt', '078364.txt', '001371.txt', '091498.txt', '047572.txt', '067150.txt', '038425.txt', '079357.txt', '025169.txt', '054501.txt', '049789.txt', '035122.txt', '049750.txt', '009051.txt', '071443.txt', '039848.txt', '058602.txt', '006704.txt', '085503.txt', '045846.txt', '004665.txt', '072542.txt', '017135.txt', '057925.txt', '041038.txt', '028687.txt', '027992.txt', '001514.txt', '043815.txt', '084816.txt', '086321.txt', '079134.txt', '032530.txt', '096053.txt', '073842.txt', '037492.txt', '045157.txt', '004471.txt', '078078.txt', '031336.txt', '031745.txt', '027929.txt', '048891.txt', '082664.txt', '024201.txt', '005496.txt', '091106.txt', '007667.txt', '028919.txt', '042266.txt', '032943.txt', '031301.txt', '020453.txt', '018009.txt', '056781.txt', '051980.txt', '012366.txt', '027068.txt', '083775.txt', '014806.txt', '072567.txt', '029713.txt', '032732.txt', '024664.txt', '020904.txt', '059224.txt', '059660.txt', '053972.txt', '028684.txt', '026121.txt', '076627.txt', '051992.txt', '078615.txt', '054499.txt', '026814.txt', '085470.txt', '034178.txt', '069900.txt', '045975.txt', '060064.txt', '067831.txt', '028861.txt', '072840.txt', '048477.txt', '005654.txt', '054872.txt', '089481.txt', '099629.txt', '086222.txt', '078422.txt', '061169.txt', '010080.txt', '021995.txt', '063186.txt', '077221.txt', '065005.txt', '097926.txt', '023484.txt', '027095.txt', '023710.txt', '087948.txt', '010185.txt', '015669.txt', '064438.txt', '058201.txt', '078959.txt', '055820.txt', '027457.txt', '093723.txt', '004700.txt', '034676.txt', '068031.txt', '082393.txt', '093697.txt', '035317.txt', '034117.txt', '057019.txt', '063855.txt', '029875.txt', '025277.txt', '094002.txt', '004005.txt', '049969.txt', '056909.txt', '070807.txt', '031867.txt', '077099.txt', '055641.txt', '072981.txt', '018064.txt', '026051.txt', '082255.txt', '024472.txt', '065832.txt', '072659.txt', '094773.txt', '001671.txt', '077882.txt', '067205.txt', '078963.txt', '065307.txt', '040971.txt', '021867.txt', '063677.txt', '040594.txt', '024379.txt', '028352.txt', '054271.txt', '093473.txt', '041848.txt', '014652.txt', '059139.txt', '031569.txt', '095697.txt', '075840.txt', '025649.txt', '066835.txt', '067869.txt', '086795.txt', '047484.txt', '074279.txt', '057031.txt', '099075.txt', '073141.txt', '006552.txt', '034034.txt', '002473.txt', '031383.txt', '029827.txt', '081741.txt', '088711.txt', '097277.txt', '074324.txt', '012902.txt', '095489.txt', '071367.txt', '003619.txt', '084683.txt', '000548.txt', '089980.txt', '014981.txt', '007807.txt', '048203.txt', '022361.txt', '074963.txt', '026914.txt', '098337.txt', '031831.txt', '083142.txt', '085304.txt', '000287.txt', '093357.txt', '000031.txt', '084775.txt', '006221.txt', '012587.txt', '021667.txt', '080697.txt', '072413.txt', '016178.txt', '066278.txt', '073416.txt', '001270.txt', '099508.txt', '069962.txt', '028494.txt', '041762.txt', '093797.txt', '081718.txt', '055546.txt', '093846.txt', '095689.txt', '070989.txt', '020697.txt', '095131.txt', '045194.txt', '000980.txt', '068696.txt', '094946.txt', '042740.txt', '025461.txt', '079775.txt', '086303.txt', '011410.txt', '034493.txt', '080457.txt', '040853.txt', '070342.txt', '037809.txt', '027525.txt', '096849.txt', '046467.txt', '024290.txt', '068573.txt', '017411.txt', '066136.txt', '037436.txt', '072764.txt', '055456.txt', '004634.txt', '069932.txt', '057395.txt', '093763.txt', '052617.txt', '014510.txt', '045835.txt', '050204.txt', '043757.txt', '057165.txt', '012277.txt', '022845.txt', '002428.txt', '030874.txt', '022557.txt', '076108.txt', '098886.txt', '044020.txt', '094438.txt', '014660.txt', '049882.txt', '031558.txt', '047817.txt', '019496.txt', '016648.txt', '094445.txt', '073347.txt', '051195.txt', '033872.txt', '099402.txt', '017705.txt', '086995.txt', '024582.txt', '094719.txt', '003640.txt', '033911.txt', '010276.txt', '061484.txt', '094571.txt', '089334.txt', '055966.txt', '016900.txt', '079102.txt', '087857.txt', '033255.txt', '014414.txt', '051624.txt', '049373.txt', '090050.txt', '036966.txt', '063210.txt', '049784.txt', '059403.txt', '034805.txt', '075428.txt', '049835.txt', '002532.txt', '025584.txt', '048866.txt', '044333.txt', '010101.txt', '036643.txt', '070457.txt', '070488.txt', '080261.txt', '029032.txt', '043687.txt', '087842.txt', '057473.txt', '044618.txt', '078401.txt', '013848.txt', '029146.txt', '034951.txt', '077712.txt', '094008.txt', '041791.txt', '096082.txt', '011052.txt', '022090.txt', '076684.txt', '002706.txt', '012443.txt', '095993.txt', '004657.txt', '056515.txt', '043774.txt', '066142.txt', '038686.txt', '082391.txt', '016697.txt', '027806.txt', '050936.txt', '050522.txt', '094500.txt', '099289.txt', '054614.txt', '064116.txt', '088068.txt', '093170.txt', '042421.txt', '027064.txt', '009922.txt', '061781.txt', '038765.txt', '072614.txt', '017025.txt', '010951.txt', '057605.txt', '064191.txt', '072019.txt', '071901.txt', '098780.txt', '095732.txt', '088946.txt', '090567.txt', '070711.txt', '028416.txt', '069510.txt', '001632.txt', '045073.txt', '049934.txt', '091060.txt', '073095.txt', '028454.txt', '043333.txt', '021802.txt', '032353.txt', '050081.txt', '093032.txt', '076491.txt', '050469.txt', '092224.txt', '073784.txt', '008447.txt', '005980.txt', '037984.txt', '066884.txt', '027869.txt', '092367.txt', '081422.txt', '074679.txt', '007233.txt', '060099.txt', '090475.txt', '053303.txt', '089233.txt', '004391.txt', '093968.txt', '019069.txt', '035585.txt', '039317.txt', '057381.txt', '053331.txt', '027853.txt', '072858.txt', '075395.txt', '088051.txt', '020264.txt', '081007.txt', '022814.txt', '080135.txt', '004066.txt', '097518.txt', '022138.txt', '012573.txt', '068808.txt', '037668.txt', '003425.txt', '070148.txt', '096512.txt', '033125.txt', '049030.txt', '019591.txt', '063954.txt', '003907.txt', '006980.txt', '048667.txt', '067664.txt', '030496.txt', '071899.txt', '023475.txt', '034519.txt', '001919.txt', '044691.txt', '027652.txt', '002577.txt', '016407.txt', '026214.txt', '043082.txt', '018712.txt', '014029.txt', '072299.txt', '099980.txt', '007864.txt', '089448.txt', '038049.txt', '062434.txt', '003352.txt', '076644.txt', '023782.txt', '003975.txt', '089187.txt', '067616.txt', '073925.txt', '063530.txt', '087467.txt', '010167.txt', '046879.txt', '035790.txt', '061177.txt', '041229.txt', '014837.txt', '077574.txt', '063662.txt', '024605.txt', '025983.txt', '062552.txt', '012181.txt', '092047.txt', '073662.txt', '090623.txt', '010309.txt', '091067.txt', '072582.txt', '053231.txt', '069682.txt', '031853.txt', '021547.txt', '027062.txt', '001389.txt', '016293.txt', '004078.txt', '069049.txt', '022731.txt', '054298.txt', '083541.txt', '059531.txt', '042678.txt', '046017.txt', '004518.txt', '014400.txt', '092133.txt', '018238.txt', '084314.txt', '048772.txt', '086229.txt', '089515.txt', '039031.txt', '078211.txt', '043318.txt', '036808.txt', '087412.txt', '060931.txt', '047720.txt', '049262.txt', '055907.txt', '092922.txt', '050119.txt', '013267.txt', '021903.txt', '050486.txt', '088833.txt', '071835.txt', '081181.txt', '009359.txt', '028335.txt', '002432.txt', '094142.txt', '057133.txt', '066462.txt', '093558.txt', '062396.txt', '082157.txt', '087350.txt', '059638.txt', '050846.txt', '033670.txt', '099114.txt', '068921.txt', '040789.txt', '099935.txt', '006014.txt', '055208.txt', '094551.txt', '028875.txt', '071050.txt', '023159.txt', '008240.txt', '022477.txt', '072417.txt', '058456.txt', '062773.txt', '051409.txt', '052202.txt', '001454.txt', '032277.txt', '030530.txt', '096640.txt', '099898.txt', '095660.txt', '066273.txt', '029559.txt', '077380.txt', '091768.txt', '013332.txt', '031470.txt', '044499.txt', '093767.txt', '006304.txt', '044349.txt', '019017.txt', '077808.txt', '029206.txt', '091378.txt', '062369.txt', '068066.txt', '005889.txt', '031191.txt', '051717.txt', '071968.txt', '045225.txt', '099037.txt', '075981.txt', '012914.txt', '024507.txt', '041120.txt', '048582.txt', '009347.txt', '082229.txt', '095950.txt', '035429.txt', '062663.txt', '013353.txt', '037807.txt', '097996.txt', '071345.txt', '013904.txt', '037362.txt', '080552.txt', '093191.txt', '055631.txt', '055782.txt', '047774.txt', '064822.txt', '027350.txt', '053613.txt', '094548.txt', '026403.txt', '028576.txt', '011813.txt', '018032.txt', '002406.txt', '003968.txt', '001960.txt', '003300.txt', '075899.txt', '074163.txt', '066471.txt', '067036.txt', '075833.txt', '004541.txt', '006842.txt', '047512.txt', '079841.txt', '047674.txt', '075139.txt', '024935.txt', '042731.txt', '010360.txt', '023747.txt', '061363.txt', '077890.txt', '076092.txt', '030252.txt', '021940.txt', '081738.txt', '071434.txt', '066955.txt', '048819.txt', '059989.txt', '039040.txt', '056002.txt', '040727.txt', '026349.txt', '015684.txt', '015998.txt', '024771.txt', '037423.txt', '027629.txt', '005628.txt', '034675.txt', '025492.txt', '040435.txt', '014725.txt', '076619.txt', '022604.txt', '036084.txt', '055840.txt', '034039.txt', '050927.txt', '000789.txt', '018807.txt', '005229.txt', '019699.txt', '080787.txt', '025457.txt', '059938.txt', '085841.txt', '047371.txt', '038059.txt', '075753.txt', '032442.txt', '092144.txt', '048142.txt', '085462.txt', '057341.txt', '040468.txt', '059917.txt', '077421.txt', '062926.txt', '094680.txt', '002266.txt', '024269.txt', '040279.txt', '042609.txt', '083380.txt', '049496.txt', '084442.txt', '092179.txt', '038483.txt', '013357.txt', '042273.txt', '059961.txt', '071972.txt', '038825.txt', '067900.txt', '029072.txt', '037860.txt', '070222.txt', '048319.txt', '017692.txt', '015366.txt', '035694.txt', '063565.txt', '022465.txt', '032116.txt', '092379.txt', '063326.txt', '058589.txt', '026070.txt', '098674.txt', '064365.txt', '011770.txt', '021818.txt', '011450.txt', '087019.txt', '069868.txt', '092991.txt', '051432.txt', '011651.txt', '083279.txt', '034633.txt', '005264.txt', '075670.txt', '093215.txt', '030166.txt', '002847.txt', '086778.txt', '084785.txt', '084828.txt', '031217.txt', '025435.txt', '005798.txt', '088853.txt', '041666.txt', '057595.txt', '029460.txt', '060633.txt', '046914.txt', '021269.txt', '081689.txt', '065992.txt', '068127.txt', '095985.txt', '059646.txt', '038039.txt', '022534.txt', '090476.txt', '081437.txt', '052236.txt', '024927.txt', '014585.txt', '027247.txt', '028727.txt', '005594.txt', '066880.txt', '010863.txt', '000669.txt', '039617.txt', '074499.txt', '073783.txt', '058009.txt', '073494.txt', '011771.txt', '038662.txt', '037271.txt', '026562.txt', '080737.txt', '076600.txt', '047171.txt', '024807.txt', '036382.txt', '059378.txt', '044212.txt', '029395.txt', '066323.txt', '046478.txt', '073803.txt', '090376.txt', '048566.txt', '048610.txt', '083445.txt', '085456.txt', '032014.txt', '098344.txt', '074753.txt', '084144.txt', '025484.txt', '013611.txt', '084496.txt', '063218.txt', '053534.txt', '033402.txt', '089350.txt', '054886.txt', '082919.txt', '011976.txt', '086540.txt', '080700.txt', '095459.txt', '017289.txt', '024376.txt', '029126.txt', '059827.txt', '067651.txt', '035755.txt', '078234.txt', '043560.txt', '063754.txt', '048888.txt', '086263.txt', '080257.txt', '047690.txt', '086406.txt', '051130.txt', '095304.txt', '054217.txt', '055026.txt', '029800.txt', '064754.txt', '007800.txt', '030619.txt', '065642.txt', '098731.txt', '099091.txt', '069135.txt', '010026.txt', '007283.txt', '048027.txt', '063489.txt', '051695.txt', '011515.txt', '036157.txt', '036981.txt', '070496.txt', '050180.txt', '003363.txt', '006101.txt', '080219.txt', '087782.txt', '091886.txt', '004859.txt', '085026.txt', '044651.txt', '082333.txt', '026707.txt', '031361.txt', '030997.txt', '020085.txt', '018945.txt', '069506.txt', '096567.txt', '043211.txt', '072642.txt', '087927.txt', '098080.txt', '020155.txt', '067420.txt', '005464.txt', '072874.txt', '025781.txt', '029208.txt', '074006.txt', '021359.txt', '057417.txt', '093214.txt', '002760.txt', '053239.txt', '030865.txt', '041451.txt', '021820.txt', '088403.txt', '004945.txt', '072304.txt', '033096.txt', '055104.txt', '073785.txt', '036531.txt', '033767.txt', '048016.txt', '025354.txt', '092592.txt', '038019.txt', '075132.txt', '087285.txt', '066524.txt', '080578.txt', '067501.txt', '009546.txt', '026595.txt', '008321.txt', '091769.txt', '023441.txt', '010963.txt', '051140.txt', '026950.txt', '095095.txt', '027321.txt', '051903.txt', '052909.txt', '050036.txt', '018833.txt', '090807.txt', '085818.txt', '018044.txt', '037341.txt', '007786.txt', '008365.txt', '080671.txt', '021926.txt', '093540.txt', '026385.txt', '052260.txt', '011428.txt', '016977.txt', '041792.txt', '098829.txt', '039087.txt', '017391.txt', '062577.txt', '012070.txt', '069632.txt', '032566.txt', '078873.txt', '094254.txt', '061232.txt', '046762.txt', '072899.txt', '092690.txt', '081232.txt', '029382.txt', '004851.txt', '073675.txt', '043073.txt', '003915.txt', '095055.txt', '074115.txt', '093206.txt', '051685.txt', '075338.txt', '029988.txt', '037192.txt', '055052.txt', '019275.txt', '071802.txt', '045526.txt', '079913.txt', '013224.txt', '017363.txt', '043695.txt', '089328.txt', '066185.txt', '065702.txt', '099836.txt', '005978.txt', '089357.txt', '098417.txt', '097516.txt', '051812.txt', '030637.txt', '092346.txt', '090503.txt', '089459.txt', '000251.txt', '026020.txt', '050167.txt', '090778.txt', '099390.txt', '076166.txt', '088234.txt', '094760.txt', '058747.txt', '008572.txt', '039818.txt', '017246.txt', '018631.txt', '031646.txt', '009580.txt', '071583.txt', '015180.txt', '024156.txt', '094835.txt', '049691.txt', '005430.txt', '031152.txt', '006380.txt', '019947.txt', '051640.txt', '072519.txt', '074913.txt', '089833.txt', '029755.txt', '027831.txt', '001127.txt', '011899.txt', '019858.txt', '085920.txt', '001292.txt', '037440.txt', '062264.txt', '020223.txt', '073303.txt', '062628.txt', '066415.txt', '087381.txt', '046459.txt', '033327.txt', '055154.txt', '072753.txt', '002745.txt', '089598.txt', '095448.txt', '004991.txt', '074157.txt', '005560.txt', '081675.txt', '074226.txt', '089349.txt', '033158.txt', '008578.txt', '027083.txt', '067660.txt', '018029.txt', '003992.txt', '027896.txt', '040560.txt', '011086.txt', '085492.txt', '099372.txt', '004177.txt', '028143.txt', '028654.txt', '006255.txt', '073640.txt', '015031.txt', '043843.txt', '007483.txt', '033946.txt', '015565.txt', '047664.txt', '019185.txt', '070337.txt', '089265.txt', '003096.txt', '068800.txt', '093861.txt', '095714.txt', '020257.txt', '065607.txt', '076138.txt', '029597.txt', '039954.txt', '076567.txt', '097906.txt', '006469.txt', '005419.txt', '075560.txt', '031058.txt', '049599.txt', '060193.txt', '025807.txt', '029445.txt', '033772.txt', '013733.txt', '079743.txt', '036666.txt', '035433.txt', '021696.txt', '068623.txt', '013935.txt', '079726.txt', '057835.txt', '085126.txt', '099307.txt', '087440.txt', '066227.txt', '013990.txt', '013648.txt', '094501.txt', '087890.txt', '041277.txt', '067550.txt', '018431.txt', '044267.txt', '017036.txt', '070393.txt', '000123.txt', '070362.txt', '031341.txt', '000998.txt', '010050.txt', '072112.txt', '064432.txt', '015774.txt', '002236.txt', '063638.txt', '040372.txt', '031872.txt', '054403.txt', '086090.txt', '034132.txt', '084325.txt', '032621.txt', '043935.txt', '099295.txt', '052957.txt', '035108.txt', '057494.txt', '026388.txt', '051897.txt', '014411.txt', '091411.txt', '047717.txt', '042763.txt', '024210.txt', '096091.txt', '052454.txt', '025422.txt', '079807.txt', '040962.txt', '034970.txt', '033995.txt', '040331.txt', '001093.txt', '025163.txt', '029766.txt', '093486.txt', '051353.txt', '050382.txt', '091789.txt', '081082.txt', '048230.txt', '061971.txt', '003138.txt', '045464.txt', '029987.txt', '033470.txt', '099814.txt', '052112.txt', '058355.txt', '073546.txt', '033066.txt', '022377.txt', '018521.txt', '031641.txt', '034220.txt', '079470.txt', '088949.txt', '082827.txt', '017639.txt', '040993.txt', '061878.txt', '039187.txt', '060565.txt', '066464.txt', '019253.txt', '062748.txt', '046057.txt', '086592.txt', '019931.txt', '014104.txt', '008522.txt', '065694.txt', '037834.txt', '081167.txt', '095868.txt', '089764.txt', '033236.txt', '053361.txt', '097751.txt', '045624.txt', '086385.txt', '006042.txt', '052000.txt', '032489.txt', '004347.txt', '078018.txt', '002449.txt', '022394.txt', '080607.txt', '073012.txt', '091805.txt', '039363.txt', '047162.txt', '011790.txt', '009279.txt', '013181.txt', '079842.txt', '001281.txt', '095542.txt', '074300.txt', '024157.txt', '075352.txt', '003681.txt', '086250.txt', '032538.txt', '078317.txt', '010599.txt', '012651.txt', '008011.txt', '057436.txt', '076048.txt', '082291.txt', '097680.txt', '084981.txt', '071286.txt', '052738.txt', '077885.txt', '089855.txt', '099108.txt', '002697.txt', '000264.txt', '068664.txt', '071113.txt', '099140.txt', '003093.txt', '057625.txt', '058804.txt', '017358.txt', '024978.txt', '036880.txt', '027816.txt', '097987.txt', '026731.txt', '091938.txt', '015185.txt', '079819.txt', '000094.txt', '001510.txt', '088734.txt', '087759.txt', '095461.txt', '040661.txt', '049802.txt', '094381.txt', '098981.txt', '039038.txt', '086832.txt', '007939.txt', '002967.txt', '027892.txt', '094196.txt', '088392.txt', '047838.txt', '045084.txt', '082201.txt', '041628.txt', '001042.txt', '040715.txt', '038962.txt', '048688.txt', '058658.txt', '073641.txt', '067126.txt', '042290.txt', '001810.txt', '018827.txt', '035551.txt', '027902.txt', '037187.txt', '075142.txt', '098808.txt', '075219.txt', '043794.txt', '012454.txt', '031202.txt', '033251.txt', '042450.txt', '095783.txt', '061508.txt', '082788.txt', '054375.txt', '052558.txt', '078607.txt', '043544.txt', '068987.txt', '082659.txt', '034501.txt', '077314.txt', '061838.txt', '031235.txt', '099064.txt', '057020.txt', '048771.txt', '062043.txt', '089882.txt', '029524.txt', '027813.txt', '049398.txt', '057424.txt', '039169.txt', '053716.txt', '053805.txt', '082631.txt', '067346.txt', '013428.txt', '096407.txt', '049668.txt', '083393.txt', '040690.txt', '088639.txt', '098640.txt', '074927.txt', '044480.txt', '045863.txt', '001499.txt', '074629.txt', '089160.txt', '043465.txt', '090625.txt', '001556.txt', '094902.txt', '096510.txt', '059973.txt', '090361.txt', '018525.txt', '041207.txt', '072575.txt', '072495.txt', '061836.txt', '031575.txt', '099538.txt', '012703.txt', '063644.txt', '072847.txt', '075160.txt', '067168.txt', '058838.txt', '021953.txt', '095400.txt', '060148.txt', '076483.txt', '038396.txt', '063659.txt', '051820.txt', '060402.txt', '006926.txt', '082459.txt', '018504.txt', '014670.txt', '097970.txt', '052265.txt', '046531.txt', '057109.txt', '009309.txt', '081289.txt', '069386.txt', '044933.txt', '067436.txt', '092405.txt', '031131.txt', '026076.txt', '008064.txt', '058278.txt', '043143.txt', '034289.txt', '081898.txt', '034660.txt', '010588.txt', '090246.txt', '052576.txt', '042722.txt', '075485.txt', '023034.txt', '088719.txt', '097447.txt', '011815.txt', '033232.txt', '042691.txt', '082086.txt', '071728.txt', '046336.txt', '082571.txt', '096562.txt', '075527.txt', '001616.txt', '024131.txt', '075654.txt', '085732.txt', '047946.txt', '044526.txt', '070665.txt', '058208.txt', '062403.txt', '040067.txt', '014587.txt', '061248.txt', '037505.txt', '023111.txt', '040381.txt', '023066.txt', '043898.txt', '087535.txt', '094252.txt', '023275.txt', '071401.txt', '048176.txt', '020951.txt', '002470.txt', '045061.txt', '089668.txt', '056215.txt', '034379.txt', '030134.txt', '088859.txt', '060867.txt', '045210.txt', '023919.txt', '074924.txt', '053542.txt', '098047.txt', '041037.txt', '073898.txt', '003595.txt', '021520.txt', '053046.txt', '078369.txt', '024179.txt', '031095.txt', '020418.txt', '082357.txt', '090301.txt', '068655.txt', '058990.txt', '016309.txt', '023783.txt', '041061.txt', '063366.txt', '085605.txt', '040837.txt', '007365.txt', '018075.txt', '002304.txt', '092914.txt', '068986.txt', '000981.txt', '088713.txt', '000149.txt', '029760.txt', '032401.txt', '020165.txt', '001153.txt', '049905.txt', '013059.txt', '025282.txt', '060981.txt', '031532.txt', '068546.txt', '092324.txt', '011646.txt', '018618.txt', '095621.txt', '055972.txt', '080237.txt', '007569.txt', '042472.txt', '095280.txt', '087450.txt', '096068.txt', '072418.txt', '028041.txt', '097928.txt', '073772.txt', '083654.txt', '061239.txt', '002872.txt', '072827.txt', '063006.txt', '057680.txt', '059360.txt', '072229.txt', '091692.txt', '027189.txt', '033709.txt', '030660.txt', '017699.txt', '072967.txt', '039485.txt', '090512.txt', '093910.txt', '087839.txt', '031959.txt', '061223.txt', '070773.txt', '099667.txt', '070120.txt', '040694.txt', '028279.txt', '025322.txt', '087560.txt', '026706.txt', '066829.txt', '076034.txt', '077780.txt', '087166.txt', '049921.txt', '065296.txt', '096651.txt', '095429.txt', '040997.txt', '036145.txt', '098545.txt', '050849.txt', '009609.txt', '065386.txt', '097100.txt', '020596.txt', '092295.txt', '030450.txt', '031985.txt', '085556.txt', '085677.txt', '028229.txt', '056127.txt', '063549.txt', '003836.txt', '053170.txt', '017428.txt', '003798.txt', '026273.txt', '074925.txt', '000092.txt', '035495.txt', '043642.txt', '094151.txt', '019195.txt', '009748.txt', '085414.txt', '016618.txt', '014126.txt', '040417.txt', '079174.txt', '071437.txt', '043947.txt', '046045.txt', '097609.txt', '076174.txt', '048338.txt', '000418.txt', '063358.txt', '032867.txt', '039509.txt', '059608.txt', '066101.txt', '076853.txt', '020170.txt', '075806.txt', '073159.txt', '026067.txt', '015538.txt', '081702.txt', '072635.txt', '013514.txt', '055858.txt', '041348.txt', '067564.txt', '083543.txt', '065066.txt', '023432.txt', '018123.txt', '001354.txt', '018897.txt', '032717.txt', '060970.txt', '012781.txt', '079177.txt', '010648.txt', '066269.txt', '006909.txt', '041897.txt', '099474.txt', '034704.txt', '096919.txt', '057433.txt', '048128.txt', '020730.txt', '052787.txt', '093139.txt', '014909.txt', '031822.txt', '084866.txt', '087773.txt', '082735.txt', '010127.txt', '043252.txt', '040347.txt', '076539.txt', '009673.txt', '053101.txt', '064690.txt', '024648.txt', '021733.txt', '086674.txt', '079731.txt', '024374.txt', '011507.txt', '090357.txt', '071170.txt', '008777.txt', '068864.txt', '032811.txt', '065768.txt', '040992.txt', '087791.txt', '003117.txt', '021797.txt', '051464.txt', '017265.txt', '015021.txt', '039174.txt', '012424.txt', '001758.txt', '070464.txt', '035854.txt', '084638.txt', '019001.txt', '034854.txt', '031784.txt', '075490.txt', '040398.txt', '057786.txt', '038912.txt', '046306.txt', '024361.txt', '088584.txt', '021610.txt', '002785.txt', '058882.txt', '045008.txt', '058692.txt', '087257.txt', '070826.txt', '001224.txt', '093948.txt', '073310.txt', '035687.txt', '091216.txt', '056346.txt', '054239.txt', '035797.txt', '076969.txt', '002770.txt', '032699.txt', '057294.txt', '067351.txt', '069381.txt', '033145.txt', '040320.txt', '073684.txt', '064829.txt', '047415.txt', '006809.txt', '008782.txt', '025668.txt', '004800.txt', '013029.txt', '081834.txt', '062143.txt', '036711.txt', '089192.txt', '041293.txt', '045545.txt', '093016.txt', '099862.txt', '029424.txt', '072828.txt', '048038.txt', '058938.txt', '088448.txt', '076089.txt', '029004.txt', '051144.txt', '030557.txt', '088253.txt', '048259.txt', '094403.txt', '080741.txt', '082986.txt', '023581.txt', '086905.txt', '096083.txt', '015966.txt', '022823.txt', '093525.txt', '037744.txt', '086163.txt', '051739.txt', '050415.txt', '006519.txt', '026601.txt', '096494.txt', '028169.txt', '085845.txt', '030942.txt', '066038.txt', '056075.txt', '025179.txt', '014329.txt', '054086.txt', '010628.txt', '032453.txt', '066695.txt', '090936.txt', '066012.txt', '032139.txt', '013551.txt', '010679.txt', '025194.txt', '000099.txt', '005958.txt', '087221.txt', '087186.txt', '074321.txt', '031183.txt', '058681.txt', '061153.txt', '071207.txt', '086877.txt', '015880.txt', '059301.txt', '061668.txt', '082829.txt', '023112.txt', '032248.txt', '089050.txt', '045272.txt', '080480.txt', '087961.txt', '015054.txt', '064693.txt', '070035.txt', '069739.txt', '069554.txt', '067848.txt', '042832.txt', '023830.txt', '070134.txt', '014541.txt', '003865.txt', '078583.txt', '017471.txt', '085032.txt', '005651.txt', '064407.txt', '092064.txt', '016850.txt', '075045.txt', '098609.txt', '019608.txt', '068398.txt', '052766.txt', '011895.txt', '023708.txt', '047727.txt', '058297.txt', '066625.txt', '015997.txt', '089540.txt', '021578.txt', '053752.txt', '075470.txt', '062436.txt', '007981.txt', '038593.txt', '044040.txt', '010578.txt', '004094.txt', '006776.txt', '013201.txt', '028398.txt', '021122.txt', '088033.txt', '086025.txt', '014934.txt', '011121.txt', '046156.txt', '025180.txt', '026807.txt', '093916.txt', '091483.txt', '065685.txt', '009384.txt', '036425.txt', '074245.txt', '060207.txt', '017675.txt', '086040.txt', '077844.txt', '087279.txt', '017782.txt', '066809.txt', '040770.txt', '089876.txt', '050190.txt', '086941.txt', '087449.txt', '030375.txt', '017701.txt', '002314.txt', '069400.txt', '058182.txt', '035213.txt', '076221.txt', '020740.txt', '092332.txt', '049263.txt', '003459.txt', '046409.txt', '095905.txt', '064299.txt', '003347.txt', '026234.txt', '063917.txt', '052719.txt', '047032.txt', '012990.txt', '086928.txt', '098353.txt', '083342.txt', '099055.txt', '074145.txt', '086473.txt', '002254.txt', '044811.txt', '049254.txt', '030703.txt', '088152.txt', '018920.txt', '039167.txt', '029359.txt', '020917.txt', '094232.txt', '035855.txt', '032506.txt', '094415.txt', '058785.txt', '093012.txt', '080067.txt', '000393.txt', '044922.txt', '027797.txt', '075040.txt', '071525.txt', '017186.txt', '006725.txt', '078468.txt', '088175.txt', '070693.txt', '016961.txt', '035587.txt', '034926.txt', '046361.txt', '093615.txt', '076793.txt', '076899.txt', '024165.txt', '048250.txt', '048958.txt', '079562.txt', '044549.txt', '080075.txt', '095523.txt', '025812.txt', '001833.txt', '082939.txt', '022931.txt', '031723.txt', '024150.txt', '085668.txt', '010206.txt', '008029.txt', '038270.txt', '062394.txt', '012898.txt', '022157.txt', '008075.txt', '063624.txt', '077954.txt', '022765.txt', '086694.txt', '088055.txt', '038987.txt', '042761.txt', '063950.txt', '043418.txt', '059607.txt', '026724.txt', '084048.txt', '049219.txt', '018243.txt', '049344.txt', '021980.txt', '020111.txt', '034024.txt', '001947.txt', '068880.txt', '067437.txt', '091217.txt', '003340.txt', '018746.txt', '065060.txt', '093174.txt', '058076.txt', '059887.txt', '041961.txt', '067064.txt', '048903.txt', '017840.txt', '069951.txt', '002243.txt', '096135.txt', '036162.txt', '034747.txt', '047364.txt', '029174.txt', '051749.txt', '015740.txt', '090758.txt', '010526.txt', '024300.txt', '033138.txt', '052654.txt', '085123.txt', '024113.txt', '008163.txt', '019211.txt', '031950.txt', '096150.txt', '038489.txt', '066252.txt', '062698.txt', '048634.txt', '023192.txt', '037920.txt', '067545.txt', '020799.txt', '055484.txt', '075095.txt', '082866.txt', '096066.txt', '068773.txt', '094244.txt', '057293.txt', '079111.txt', '002656.txt', '038007.txt', '013860.txt', '032761.txt', '040251.txt', '047264.txt', '054510.txt', '044837.txt', '099124.txt', '065408.txt', '092950.txt', '014108.txt', '089959.txt', '004200.txt', '048578.txt', '086716.txt', '096872.txt', '041390.txt', '052328.txt', '009288.txt', '077014.txt', '057153.txt', '017129.txt', '066861.txt', '089811.txt', '081559.txt', '002134.txt', '031133.txt', '075589.txt', '025411.txt', '080304.txt', '016417.txt', '055432.txt', '061295.txt', '049011.txt', '025784.txt', '046302.txt', '031665.txt', '093759.txt', '065387.txt', '048074.txt', '065459.txt', '047647.txt', '030940.txt', '057285.txt', '033950.txt', '042230.txt', '033796.txt', '007135.txt', '023107.txt', '055865.txt', '071388.txt', '038538.txt', '044896.txt', '075817.txt', '007021.txt', '099286.txt', '068854.txt', '061938.txt', '002669.txt', '035004.txt', '051847.txt', '096228.txt', '094400.txt', '045413.txt', '033743.txt', '089636.txt', '083650.txt', '015438.txt', '041155.txt', '047681.txt', '064373.txt', '097086.txt', '063745.txt', '008428.txt', '094098.txt', '074264.txt', '043427.txt', '008012.txt', '038222.txt', '088672.txt', '013179.txt', '026213.txt', '038307.txt', '080725.txt', '051912.txt', '059053.txt', '034005.txt', '048696.txt', '046649.txt', '074438.txt', '081941.txt', '008214.txt', '058592.txt', '079988.txt', '050439.txt', '005778.txt', '077154.txt', '037435.txt', '025630.txt', '097687.txt', '019379.txt', '014765.txt', '002348.txt', '015764.txt', '056841.txt', '018993.txt', '003575.txt', '021479.txt', '073660.txt', '044675.txt', '033974.txt', '026671.txt', '005239.txt', '063135.txt', '039769.txt', '070234.txt', '037152.txt', '039135.txt', '002512.txt', '059722.txt', '086440.txt', '092148.txt', '055311.txt', '086886.txt', '033320.txt', '005905.txt', '027821.txt', '060487.txt', '083148.txt', '091511.txt', '067658.txt', '063193.txt', '010846.txt', '054364.txt', '013853.txt', '095669.txt', '016842.txt', '035174.txt', '058229.txt', '045483.txt', '012839.txt', '035275.txt', '003467.txt', '008545.txt', '085740.txt', '016748.txt', '090831.txt', '065661.txt', '085628.txt', '042053.txt', '049257.txt', '092775.txt', '021894.txt', '026915.txt', '097594.txt', '038947.txt', '071679.txt', '027355.txt', '023744.txt', '063878.txt', '071236.txt', '098567.txt', '021683.txt', '024404.txt', '093828.txt', '089914.txt', '013657.txt', '045313.txt', '046080.txt', '030256.txt', '081901.txt', '002201.txt', '007137.txt', '006978.txt', '088533.txt', '018685.txt', '066347.txt', '067942.txt', '040840.txt', '097067.txt', '068668.txt', '018101.txt', '030488.txt', '060501.txt', '083595.txt', '078784.txt', '031792.txt', '053438.txt', '043025.txt', '049366.txt', '002357.txt', '047563.txt', '052896.txt', '091228.txt', '043811.txt', '079773.txt', '077879.txt', '063387.txt', '013837.txt', '062156.txt', '039132.txt', '023376.txt', '056205.txt', '043597.txt', '056717.txt', '018621.txt', '007811.txt', '079020.txt', '093015.txt', '051895.txt', '046944.txt', '095017.txt', '013100.txt', '052117.txt', '087913.txt', '055899.txt', '033537.txt', '028317.txt', '030458.txt', '064109.txt', '021424.txt', '076191.txt', '040729.txt', '043523.txt', '004108.txt', '034717.txt', '093166.txt', '013926.txt', '017282.txt', '058104.txt', '073117.txt', '022025.txt', '027136.txt', '060713.txt', '033720.txt', '050528.txt', '076365.txt', '039621.txt', '056482.txt', '021842.txt', '017017.txt', '023365.txt', '082466.txt', '008120.txt', '054527.txt', '090043.txt', '067951.txt', '080645.txt', '015778.txt', '079050.txt', '029744.txt', '010465.txt', '010024.txt', '040348.txt', '090429.txt', '080775.txt', '051398.txt', '072555.txt', '016020.txt', '097619.txt', '054846.txt', '086071.txt', '074596.txt', '005584.txt', '078061.txt', '059241.txt', '035705.txt', '041530.txt', '028957.txt', '034344.txt', '012451.txt', '004125.txt', '034861.txt', '092038.txt', '084324.txt', '062228.txt', '081576.txt', '087599.txt', '010480.txt', '028499.txt', '062072.txt', '098526.txt', '090282.txt', '061880.txt', '045761.txt', '043608.txt', '059299.txt', '000447.txt', '027849.txt', '001091.txt', '008698.txt', '007780.txt', '056218.txt', '057070.txt', '041621.txt', '011677.txt', '034018.txt', '066243.txt', '055749.txt', '076886.txt', '021370.txt', '073273.txt', '094198.txt', '038871.txt', '006922.txt', '025381.txt', '034150.txt', '042013.txt', '082672.txt', '078690.txt', '085637.txt', '048711.txt', '096868.txt', '072726.txt', '096709.txt', '059336.txt', '024601.txt', '027284.txt', '023501.txt', '093407.txt', '094282.txt', '092975.txt', '044582.txt', '064350.txt', '042935.txt', '046310.txt', '066194.txt', '066270.txt', '026986.txt', '080114.txt', '010990.txt', '069665.txt', '016438.txt', '074125.txt', '008367.txt', '037120.txt', '086282.txt', '019313.txt', '054027.txt', '039373.txt', '081946.txt', '056454.txt', '055216.txt', '052686.txt', '082319.txt', '049224.txt', '014290.txt', '015036.txt', '044216.txt', '056963.txt', '060737.txt', '021897.txt', '065756.txt', '094066.txt', '046212.txt', '064374.txt', '023540.txt', '042502.txt', '033292.txt', '050440.txt', '046350.txt', '032912.txt', '046274.txt', '027526.txt', '079300.txt', '071395.txt', '089043.txt', '085326.txt', '035385.txt', '044471.txt', '072170.txt', '000085.txt', '057000.txt', '016253.txt', '038682.txt', '045056.txt', '088342.txt', '099321.txt', '022418.txt', '043442.txt', '084035.txt', '025629.txt', '058376.txt', '007701.txt', '030050.txt', '027996.txt', '049237.txt', '066277.txt', '086745.txt', '057191.txt', '050237.txt', '059329.txt', '084163.txt', '023110.txt', '006446.txt', '015100.txt', '087267.txt', '070724.txt', '081368.txt', '080314.txt', '063561.txt', '083109.txt', '049718.txt', '075103.txt', '017126.txt', '068503.txt', '070473.txt', '069763.txt', '065212.txt', '031656.txt', '037401.txt', '027316.txt', '070346.txt', '051724.txt', '058957.txt', '069675.txt', '024010.txt', '081862.txt', '077224.txt', '012709.txt', '048080.txt', '057990.txt', '073801.txt', '055091.txt', '000128.txt', '079455.txt', '045070.txt', '088356.txt', '026652.txt', '035486.txt', '067129.txt', '051831.txt', '018164.txt', '098605.txt', '084368.txt', '039977.txt', '026045.txt', '046071.txt', '017034.txt', '078847.txt', '048695.txt', '035718.txt', '032318.txt', '006951.txt', '019345.txt', '005631.txt', '061992.txt', '068799.txt', '074139.txt', '043052.txt', '028720.txt', '015220.txt', '016874.txt', '035671.txt', '094410.txt', '075333.txt', '016603.txt', '045412.txt', '006801.txt', '027586.txt', '038467.txt', '094979.txt', '007436.txt', '086451.txt', '025183.txt', '092806.txt', '030683.txt', '092894.txt', '006061.txt', '060251.txt', '096252.txt', '085986.txt', '073606.txt', '069065.txt', '082479.txt', '053474.txt', '067875.txt', '076964.txt', '022160.txt', '048558.txt', '035550.txt', '028739.txt', '017464.txt', '032752.txt', '016852.txt', '002854.txt', '021664.txt', '023974.txt', '058307.txt', '007785.txt', '005770.txt', '025327.txt', '022561.txt', '008882.txt', '096991.txt', '098226.txt', '051273.txt', '061303.txt', '042723.txt', '093286.txt', '094206.txt', '031547.txt', '084880.txt', '071297.txt', '084798.txt', '013166.txt', '018026.txt', '038112.txt', '081305.txt', '001505.txt', '009186.txt', '013019.txt', '085279.txt', '011570.txt', '069178.txt', '010903.txt', '040239.txt', '026507.txt', '012522.txt', '084125.txt', '091680.txt', '053539.txt', '031074.txt', '070548.txt', '013483.txt', '027776.txt', '024718.txt', '011327.txt', '005246.txt', '090613.txt', '089989.txt', '031576.txt', '056333.txt', '050332.txt', '061521.txt', '071484.txt', '092979.txt', '087907.txt', '068329.txt', '088654.txt', '039551.txt', '089792.txt', '020779.txt', '011684.txt', '024699.txt', '089851.txt', '020000.txt', '070426.txt', '041352.txt', '070664.txt', '009825.txt', '002388.txt', '040152.txt', '077562.txt', '094096.txt', '068759.txt', '077064.txt', '050745.txt', '060780.txt', '090041.txt'}\n"
          ]
        }
      ]
    },
    {
      "cell_type": "markdown",
      "source": [
        "Seleção de candidados variando o K"
      ],
      "metadata": {
        "id": "bhqiCGgXHG3k"
      }
    },
    {
      "cell_type": "code",
      "source": [
        "  ##Vetores de candidatos pra diferentes K's\n",
        "#Vary K from x to y, adding 5\n",
        "new_k = list(range(25,55,5))\n",
        "#print(new_k)\n",
        "\n",
        " #define threshold \n",
        "threshold = 0.0\n",
        "\n",
        " #Compute the maps for analysis\n",
        "#generate many maps \n",
        "top_k_maps = []\n",
        "for i in new_k:\n",
        "   top_k_maps.append(generate_top_k_map_threshold(bert_result_file,i,threshold))\n",
        "\n",
        "#1. Definir posicao do topico no vetor topk\n",
        "query_topic_position_map = [] \n",
        "for x in top_k_maps:\n",
        "    query_topic_position_map.append(query_to_filtered_candidates(x, query_to_dominant))\n",
        " \n",
        "#2.Gerar um vetor: {query: {candidate->perc_contrib_final, candidate->perc_contrib_final, ...}, query: {}, ....}        \n",
        "query_candidate_contrib = []\n",
        "for y in query_topic_position_map:\n",
        "    query_candidate_contrib.append(query_to_candidates_perc_contrib(y,doc_to_perc_contrib))\n",
        "\n",
        "#3. Ordenar candidatos em relacao ao Perc_contrib_final decrescente\n",
        "\n",
        "w = query_candidate_contrib # [{'008447.txt': {'008447.txt': 1.0, '067501.txt': 9.090909090909092e-05, '006769.txt': 0.025595, '031183.txt': 0.0625, '053848.txt': 0.01718, ...}, '067501.txt': {'008447.txt': 0.045454545454545456, '067501.txt': 0.002, '006769.txt':\n",
        "for item in w:\n",
        "    for key, value in item.items():\n",
        "        item[key] = dict(sorted(value.items(), key=lambda w: w[1],reverse=True))\n",
        "\n",
        "qc_final_desc_Ks = w\n",
        " \n",
        "#Create a vector: { Query -> [candidates], query -> [candidates] } for each K\n",
        "final_results_Ks = []\n",
        "for v in w:\n",
        "    qc_final_clean_Ks = {}\n",
        "    for key, value in v.items():\n",
        "        qc_final_clean_Ks[key] = set(value.keys())\n",
        "    final_results_Ks.append(qc_final_clean_Ks)\n",
        "\n",
        "#Validation:\n",
        "#print(len(final_results_Ks[0]['067501.txt'])) \n",
        "#print(len(final_results_Ks[1]['067501.txt'])) \n",
        "#print(len(final_results_Ks[2]['067501.txt'])) \n",
        "\n"
      ],
      "metadata": {
        "id": "8YtNLVlKHGOf"
      },
      "execution_count": null,
      "outputs": []
    },
    {
      "cell_type": "markdown",
      "source": [
        "##Calculando Precision e Recall"
      ],
      "metadata": {
        "id": "Zs3b1zlHILcA"
      }
    },
    {
      "cell_type": "code",
      "source": [
        "import statistics\n",
        "\n",
        "### Def Precision (R/D : D = Number of candidates )\n",
        "def precision(qc_final_clean, queries_to_refs) -> map:\n",
        "    precision_results= Counter()\n",
        "    for query,candidates in qc_final_clean.items():\n",
        "      for candidate in qc_final_clean[query]:\n",
        "        if candidate in queries_to_refs[query]:\n",
        "          precision_results[query] = precision_results[query] +1\n",
        "      precision_results[query] = precision_results[query] / len(qc_final_clean[query])\n",
        "    return precision_results\n",
        "\n",
        "### Def Recall (R/D : D = Number of Relevants)\n",
        "def recall(qc_final_clean, queries_to_refs) ->map:\n",
        "  recall_results= Counter()\n",
        "  for query,candidates in qc_final_clean.items():\n",
        "    for candidate in qc_final_clean[query]:\n",
        "      if candidate in queries_to_refs[query]:\n",
        "        recall_results[query] = recall_results[query] +1\n",
        "    recall_results[query] = recall_results[query] / len(queries_to_refs[query])\n",
        "  return recall_results   "
      ],
      "metadata": {
        "id": "eq_69icE1X2Y"
      },
      "execution_count": 42,
      "outputs": []
    },
    {
      "cell_type": "markdown",
      "source": [
        "For a single K"
      ],
      "metadata": {
        "id": "pwD7R1JAvu9X"
      }
    },
    {
      "cell_type": "code",
      "source": [
        "\n",
        "##Calculate results\n",
        "#Calculate Precision\n",
        "precision_result = precision(qc_final_clean, doc_to_refs)\n",
        "print(precision_result)\n",
        "precision_mean = statistics.mean(precision_result.values())\n",
        "print(precision_mean)\n",
        "#write_document_map_to_csv(precision_result,'Final_precision_Kmax.csv')\n",
        "\n",
        "#Calculate Recall\n",
        "recall_result = recall(qc_final_clean, doc_to_refs)\n",
        "#print(recall_N)\n",
        "recall_mean = statistics.mean(recall_result.values())\n",
        "print(recall_mean)\n",
        "#write_document_map_to_csv(recall_result,'Final_recall_Kmax.csv')\n"
      ],
      "metadata": {
        "id": "froFU_4Jvsen"
      },
      "execution_count": null,
      "outputs": []
    },
    {
      "cell_type": "markdown",
      "source": [
        "For many K's"
      ],
      "metadata": {
        "id": "iEn3fUB6v1tN"
      }
    },
    {
      "cell_type": "code",
      "source": [
        "#Precision for different K's\n",
        "precision_Ks = []\n",
        "for f in final_results_Ks:\n",
        "    precision_k = precision(f, doc_to_refs)\n",
        "    precision_avg = statistics.mean(precision_k.values())\n",
        "    precision_Ks.append(precision_avg)\n",
        "\n",
        "for number in precision_Ks:\n",
        "  print(\"{:10.4f}\".format(number)) \n",
        "\n",
        "print(\"\\n\")\n",
        "\n",
        "#Recall for different K's\n",
        "recall_Ks = []\n",
        "for f in final_results_Ks:\n",
        "    recall_k = recall(f, doc_to_refs)\n",
        "    recall_avg = statistics.mean(recall_k.values())\n",
        "    recall_Ks.append(recall_avg)\n",
        "\n",
        "for number in recall_Ks:\n",
        "  print(\"{:10.4f}\".format(number)) \n",
        "\n"
      ],
      "metadata": {
        "id": "-hAEURP2wDHk"
      },
      "execution_count": null,
      "outputs": []
    },
    {
      "cell_type": "markdown",
      "source": [
        "Plot graphs"
      ],
      "metadata": {
        "id": "7fX4zr4eyysk"
      }
    },
    {
      "cell_type": "code",
      "source": [
        "import matplotlib.pyplot as plt\n",
        "\n",
        "plt.plot(precision_Ks, label=\"Precision\")\n",
        "plt.plot(recall_Ks, label=\"Recall\")\n",
        "\n",
        "plt.title(\"Precision and Recall\")\n",
        "plt.xlabel(\"K's\")\n",
        "plt.ylabel(\"Value\")\n",
        "plt.plot(recall_Ks, marker = 'o')\n",
        "plt.plot(precision_Ks, marker = 'o')\n",
        "\n",
        "plt.show()"
      ],
      "metadata": {
        "colab": {
          "base_uri": "https://localhost:8080/",
          "height": 295
        },
        "id": "4iAiJuGVy4YW",
        "outputId": "cdaf5613-6711-4842-a0a1-c486adb5a8ca"
      },
      "execution_count": 54,
      "outputs": [
        {
          "output_type": "display_data",
          "data": {
            "text/plain": [
              "<Figure size 432x288 with 1 Axes>"
            ],
            "image/png": "[encoded data removed]"
          },
          "metadata": {
            "needs_background": "light"
          }
        }
      ]
    },
    {
      "cell_type": "code",
      "source": [
        "\n",
        "  \n",
        "#Alternativa fora da função\n",
        "\n",
        "#filt_cand = dict()\n",
        "#for (query, query_topic) in query_to_dominant.items():\n",
        "#    answers=[]\n",
        "#    for (candidate, topk) in documents_topk_map_max.items():\n",
        "#        top_k_candidates = topk.replace(\"[\",\"\").replace(\"]\",\"\").split() # ['94', '5', '105', '3', '20']\n",
        " #       if (convert_float_to_int_string(query_topic) in top_k_candidates):\n",
        "  #          index = top_k_candidates.index(convert_float_to_int_string(query_topic))\n",
        "   #         answers.append([candidate,index+1])\n",
        "    #    else:\n",
        "     #       continue\n",
        "        #answers.append([candidate,'NA'])\n",
        "  #  filt_cand[query] = answers"
      ],
      "metadata": {
        "colab": {
          "base_uri": "https://localhost:8080/"
        },
        "id": "DDnn4O2m25G1",
        "outputId": "7442b3c5-1540-4925-d1d4-f113a6926aa6"
      },
      "execution_count": 14,
      "outputs": [
        {
          "output_type": "stream",
          "name": "stdout",
          "text": [
            "['072495.txt', '082291.txt', '004851.txt', '049315.txt']\n",
            "4415\n"
          ]
        }
      ]
    }
  ]
}